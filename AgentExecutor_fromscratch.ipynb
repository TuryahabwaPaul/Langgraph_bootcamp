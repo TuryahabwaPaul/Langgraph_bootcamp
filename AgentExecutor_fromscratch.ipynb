{
 "cells": [
  {
   "cell_type": "markdown",
   "id": "445f974f-4dc3-446c-88c5-c400d774a506",
   "metadata": {},
   "source": [
    "# Agent Executor from scratch"
   ]
  },
  {
   "cell_type": "code",
   "execution_count": 15,
   "id": "68615ebe-e934-498c-bc76-00aad469e8c3",
   "metadata": {},
   "outputs": [
    {
     "name": "stderr",
     "output_type": "stream",
     "text": [
      "ERROR: pip's dependency resolver does not currently take into account all the packages that are installed. This behaviour is the source of the following dependency conflicts.\n",
      "streamlit 1.30.0 requires packaging<24,>=16.8, but you have packaging 24.1 which is incompatible.\n"
     ]
    }
   ],
   "source": [
    "!pip install --quiet -U langchain langchain_openai tavily-python\n"
   ]
  },
  {
   "cell_type": "code",
   "execution_count": 27,
   "id": "d14742a0-3944-485a-a4e3-2d5caaec0e37",
   "metadata": {
    "scrolled": true
   },
   "outputs": [
    {
     "name": "stdout",
     "output_type": "stream",
     "text": [
      "Requirement already satisfied: langchain in c:\\anaconda\\lib\\site-packages (0.2.14)\n",
      "Requirement already satisfied: PyYAML>=5.3 in c:\\anaconda\\lib\\site-packages (from langchain) (6.0.1)\n",
      "Requirement already satisfied: SQLAlchemy<3,>=1.4 in c:\\anaconda\\lib\\site-packages (from langchain) (2.0.25)\n",
      "Requirement already satisfied: aiohttp<4.0.0,>=3.8.3 in c:\\anaconda\\lib\\site-packages (from langchain) (3.9.3)\n",
      "Requirement already satisfied: langchain-core<0.3.0,>=0.2.32 in c:\\anaconda\\lib\\site-packages (from langchain) (0.2.33)\n",
      "Requirement already satisfied: langchain-text-splitters<0.3.0,>=0.2.0 in c:\\anaconda\\lib\\site-packages (from langchain) (0.2.2)\n",
      "Requirement already satisfied: langsmith<0.2.0,>=0.1.17 in c:\\anaconda\\lib\\site-packages (from langchain) (0.1.99)\n",
      "Requirement already satisfied: numpy<2,>=1 in c:\\anaconda\\lib\\site-packages (from langchain) (1.26.4)\n",
      "Requirement already satisfied: pydantic<3,>=1 in c:\\anaconda\\lib\\site-packages (from langchain) (1.10.12)\n",
      "Requirement already satisfied: requests<3,>=2 in c:\\anaconda\\lib\\site-packages (from langchain) (2.31.0)\n",
      "Requirement already satisfied: tenacity!=8.4.0,<9.0.0,>=8.1.0 in c:\\anaconda\\lib\\site-packages (from langchain) (8.2.2)\n",
      "Requirement already satisfied: aiosignal>=1.1.2 in c:\\anaconda\\lib\\site-packages (from aiohttp<4.0.0,>=3.8.3->langchain) (1.2.0)\n",
      "Requirement already satisfied: attrs>=17.3.0 in c:\\anaconda\\lib\\site-packages (from aiohttp<4.0.0,>=3.8.3->langchain) (23.1.0)\n",
      "Requirement already satisfied: frozenlist>=1.1.1 in c:\\anaconda\\lib\\site-packages (from aiohttp<4.0.0,>=3.8.3->langchain) (1.4.0)\n",
      "Requirement already satisfied: multidict<7.0,>=4.5 in c:\\anaconda\\lib\\site-packages (from aiohttp<4.0.0,>=3.8.3->langchain) (6.0.4)\n",
      "Requirement already satisfied: yarl<2.0,>=1.0 in c:\\anaconda\\lib\\site-packages (from aiohttp<4.0.0,>=3.8.3->langchain) (1.9.3)\n",
      "Requirement already satisfied: jsonpatch<2.0,>=1.33 in c:\\anaconda\\lib\\site-packages (from langchain-core<0.3.0,>=0.2.32->langchain) (1.33)\n",
      "Requirement already satisfied: packaging<25,>=23.2 in c:\\anaconda\\lib\\site-packages (from langchain-core<0.3.0,>=0.2.32->langchain) (24.1)\n",
      "Requirement already satisfied: typing-extensions>=4.7 in c:\\anaconda\\lib\\site-packages (from langchain-core<0.3.0,>=0.2.32->langchain) (4.12.2)\n",
      "Requirement already satisfied: orjson<4.0.0,>=3.9.14 in c:\\anaconda\\lib\\site-packages (from langsmith<0.2.0,>=0.1.17->langchain) (3.10.7)\n",
      "Requirement already satisfied: charset-normalizer<4,>=2 in c:\\anaconda\\lib\\site-packages (from requests<3,>=2->langchain) (2.0.4)\n",
      "Requirement already satisfied: idna<4,>=2.5 in c:\\anaconda\\lib\\site-packages (from requests<3,>=2->langchain) (3.4)\n",
      "Requirement already satisfied: urllib3<3,>=1.21.1 in c:\\anaconda\\lib\\site-packages (from requests<3,>=2->langchain) (1.26.16)\n",
      "Requirement already satisfied: certifi>=2017.4.17 in c:\\anaconda\\lib\\site-packages (from requests<3,>=2->langchain) (2024.6.2)\n",
      "Requirement already satisfied: greenlet!=0.4.17 in c:\\anaconda\\lib\\site-packages (from SQLAlchemy<3,>=1.4->langchain) (3.0.1)\n",
      "Requirement already satisfied: jsonpointer>=1.9 in c:\\anaconda\\lib\\site-packages (from jsonpatch<2.0,>=1.33->langchain-core<0.3.0,>=0.2.32->langchain) (2.1)\n",
      "Collecting langchain-google-genai\n",
      "  Downloading langchain_google_genai-1.0.9-py3-none-any.whl.metadata (3.8 kB)\n",
      "Collecting google-generativeai<0.8.0,>=0.7.0 (from langchain-google-genai)\n",
      "  Using cached google_generativeai-0.7.2-py3-none-any.whl.metadata (4.0 kB)\n",
      "Requirement already satisfied: langchain-core<0.3,>=0.2.32 in c:\\anaconda\\lib\\site-packages (from langchain-google-genai) (0.2.33)\n",
      "Collecting google-ai-generativelanguage==0.6.6 (from google-generativeai<0.8.0,>=0.7.0->langchain-google-genai)\n",
      "  Using cached google_ai_generativelanguage-0.6.6-py3-none-any.whl.metadata (5.6 kB)\n",
      "Collecting google-api-core (from google-generativeai<0.8.0,>=0.7.0->langchain-google-genai)\n",
      "  Using cached google_api_core-2.19.1-py3-none-any.whl.metadata (2.7 kB)\n",
      "Collecting google-api-python-client (from google-generativeai<0.8.0,>=0.7.0->langchain-google-genai)\n",
      "  Downloading google_api_python_client-2.141.0-py2.py3-none-any.whl.metadata (6.7 kB)\n",
      "Collecting google-auth>=2.15.0 (from google-generativeai<0.8.0,>=0.7.0->langchain-google-genai)\n",
      "  Downloading google_auth-2.33.0-py2.py3-none-any.whl.metadata (4.7 kB)\n",
      "Requirement already satisfied: protobuf in c:\\anaconda\\lib\\site-packages (from google-generativeai<0.8.0,>=0.7.0->langchain-google-genai) (3.20.3)\n",
      "Requirement already satisfied: pydantic in c:\\anaconda\\lib\\site-packages (from google-generativeai<0.8.0,>=0.7.0->langchain-google-genai) (1.10.12)\n",
      "Requirement already satisfied: tqdm in c:\\anaconda\\lib\\site-packages (from google-generativeai<0.8.0,>=0.7.0->langchain-google-genai) (4.65.0)\n",
      "Requirement already satisfied: typing-extensions in c:\\anaconda\\lib\\site-packages (from google-generativeai<0.8.0,>=0.7.0->langchain-google-genai) (4.12.2)\n",
      "Collecting proto-plus<2.0.0dev,>=1.22.3 (from google-ai-generativelanguage==0.6.6->google-generativeai<0.8.0,>=0.7.0->langchain-google-genai)\n",
      "  Using cached proto_plus-1.24.0-py3-none-any.whl.metadata (2.2 kB)\n",
      "Requirement already satisfied: PyYAML>=5.3 in c:\\anaconda\\lib\\site-packages (from langchain-core<0.3,>=0.2.32->langchain-google-genai) (6.0.1)\n",
      "Requirement already satisfied: jsonpatch<2.0,>=1.33 in c:\\anaconda\\lib\\site-packages (from langchain-core<0.3,>=0.2.32->langchain-google-genai) (1.33)\n",
      "Requirement already satisfied: langsmith<0.2.0,>=0.1.75 in c:\\anaconda\\lib\\site-packages (from langchain-core<0.3,>=0.2.32->langchain-google-genai) (0.1.99)\n",
      "Requirement already satisfied: packaging<25,>=23.2 in c:\\anaconda\\lib\\site-packages (from langchain-core<0.3,>=0.2.32->langchain-google-genai) (24.1)\n",
      "Requirement already satisfied: tenacity!=8.4.0,<9.0.0,>=8.1.0 in c:\\anaconda\\lib\\site-packages (from langchain-core<0.3,>=0.2.32->langchain-google-genai) (8.2.2)\n",
      "Collecting googleapis-common-protos<2.0.dev0,>=1.56.2 (from google-api-core->google-generativeai<0.8.0,>=0.7.0->langchain-google-genai)\n",
      "  Using cached googleapis_common_protos-1.63.2-py2.py3-none-any.whl.metadata (1.5 kB)\n",
      "Requirement already satisfied: requests<3.0.0.dev0,>=2.18.0 in c:\\anaconda\\lib\\site-packages (from google-api-core->google-generativeai<0.8.0,>=0.7.0->langchain-google-genai) (2.31.0)\n",
      "Requirement already satisfied: cachetools<6.0,>=2.0.0 in c:\\anaconda\\lib\\site-packages (from google-auth>=2.15.0->google-generativeai<0.8.0,>=0.7.0->langchain-google-genai) (4.2.2)\n",
      "Requirement already satisfied: pyasn1-modules>=0.2.1 in c:\\anaconda\\lib\\site-packages (from google-auth>=2.15.0->google-generativeai<0.8.0,>=0.7.0->langchain-google-genai) (0.2.8)\n",
      "Collecting rsa<5,>=3.1.4 (from google-auth>=2.15.0->google-generativeai<0.8.0,>=0.7.0->langchain-google-genai)\n",
      "  Using cached rsa-4.9-py3-none-any.whl.metadata (4.2 kB)\n",
      "Requirement already satisfied: jsonpointer>=1.9 in c:\\anaconda\\lib\\site-packages (from jsonpatch<2.0,>=1.33->langchain-core<0.3,>=0.2.32->langchain-google-genai) (2.1)\n",
      "Requirement already satisfied: orjson<4.0.0,>=3.9.14 in c:\\anaconda\\lib\\site-packages (from langsmith<0.2.0,>=0.1.75->langchain-core<0.3,>=0.2.32->langchain-google-genai) (3.10.7)\n",
      "Collecting httplib2<1.dev0,>=0.19.0 (from google-api-python-client->google-generativeai<0.8.0,>=0.7.0->langchain-google-genai)\n",
      "  Using cached httplib2-0.22.0-py3-none-any.whl.metadata (2.6 kB)\n",
      "Collecting google-auth-httplib2<1.0.0,>=0.2.0 (from google-api-python-client->google-generativeai<0.8.0,>=0.7.0->langchain-google-genai)\n",
      "  Using cached google_auth_httplib2-0.2.0-py2.py3-none-any.whl.metadata (2.2 kB)\n",
      "Collecting uritemplate<5,>=3.0.1 (from google-api-python-client->google-generativeai<0.8.0,>=0.7.0->langchain-google-genai)\n",
      "  Using cached uritemplate-4.1.1-py2.py3-none-any.whl.metadata (2.9 kB)\n",
      "Requirement already satisfied: colorama in c:\\anaconda\\lib\\site-packages (from tqdm->google-generativeai<0.8.0,>=0.7.0->langchain-google-genai) (0.4.6)\n",
      "Collecting grpcio<2.0dev,>=1.33.2 (from google-api-core[grpc]!=2.0.*,!=2.1.*,!=2.10.*,!=2.2.*,!=2.3.*,!=2.4.*,!=2.5.*,!=2.6.*,!=2.7.*,!=2.8.*,!=2.9.*,<3.0.0dev,>=1.34.1->google-ai-generativelanguage==0.6.6->google-generativeai<0.8.0,>=0.7.0->langchain-google-genai)\n",
      "  Downloading grpcio-1.65.5-cp311-cp311-win_amd64.whl.metadata (3.4 kB)\n",
      "Collecting grpcio-status<2.0.dev0,>=1.33.2 (from google-api-core[grpc]!=2.0.*,!=2.1.*,!=2.10.*,!=2.2.*,!=2.3.*,!=2.4.*,!=2.5.*,!=2.6.*,!=2.7.*,!=2.8.*,!=2.9.*,<3.0.0dev,>=1.34.1->google-ai-generativelanguage==0.6.6->google-generativeai<0.8.0,>=0.7.0->langchain-google-genai)\n",
      "  Downloading grpcio_status-1.65.5-py3-none-any.whl.metadata (1.1 kB)\n",
      "Requirement already satisfied: pyparsing!=3.0.0,!=3.0.1,!=3.0.2,!=3.0.3,<4,>=2.4.2 in c:\\anaconda\\lib\\site-packages (from httplib2<1.dev0,>=0.19.0->google-api-python-client->google-generativeai<0.8.0,>=0.7.0->langchain-google-genai) (3.0.9)\n",
      "Requirement already satisfied: pyasn1<0.5.0,>=0.4.6 in c:\\anaconda\\lib\\site-packages (from pyasn1-modules>=0.2.1->google-auth>=2.15.0->google-generativeai<0.8.0,>=0.7.0->langchain-google-genai) (0.4.8)\n",
      "Requirement already satisfied: charset-normalizer<4,>=2 in c:\\anaconda\\lib\\site-packages (from requests<3.0.0.dev0,>=2.18.0->google-api-core->google-generativeai<0.8.0,>=0.7.0->langchain-google-genai) (2.0.4)\n",
      "Requirement already satisfied: idna<4,>=2.5 in c:\\anaconda\\lib\\site-packages (from requests<3.0.0.dev0,>=2.18.0->google-api-core->google-generativeai<0.8.0,>=0.7.0->langchain-google-genai) (3.4)\n",
      "Requirement already satisfied: urllib3<3,>=1.21.1 in c:\\anaconda\\lib\\site-packages (from requests<3.0.0.dev0,>=2.18.0->google-api-core->google-generativeai<0.8.0,>=0.7.0->langchain-google-genai) (1.26.16)\n",
      "Requirement already satisfied: certifi>=2017.4.17 in c:\\anaconda\\lib\\site-packages (from requests<3.0.0.dev0,>=2.18.0->google-api-core->google-generativeai<0.8.0,>=0.7.0->langchain-google-genai) (2024.6.2)\n",
      "INFO: pip is looking at multiple versions of grpcio-status to determine which version is compatible with other requirements. This could take a while.\n",
      "  Using cached grpcio_status-1.65.4-py3-none-any.whl.metadata (1.1 kB)\n",
      "  Using cached grpcio_status-1.65.2-py3-none-any.whl.metadata (1.1 kB)\n",
      "  Using cached grpcio_status-1.65.1-py3-none-any.whl.metadata (1.1 kB)\n",
      "  Using cached grpcio_status-1.64.3-py3-none-any.whl.metadata (1.1 kB)\n",
      "  Using cached grpcio_status-1.64.1-py3-none-any.whl.metadata (1.1 kB)\n",
      "  Using cached grpcio_status-1.64.0-py3-none-any.whl.metadata (1.1 kB)\n",
      "  Using cached grpcio_status-1.63.2-py3-none-any.whl.metadata (1.1 kB)\n",
      "INFO: pip is still looking at multiple versions of grpcio-status to determine which version is compatible with other requirements. This could take a while.\n",
      "  Using cached grpcio_status-1.63.0-py3-none-any.whl.metadata (1.1 kB)\n",
      "  Using cached grpcio_status-1.62.3-py3-none-any.whl.metadata (1.3 kB)\n",
      "Collecting protobuf (from google-generativeai<0.8.0,>=0.7.0->langchain-google-genai)\n",
      "  Downloading protobuf-4.25.4-cp310-abi3-win_amd64.whl.metadata (541 bytes)\n",
      "Downloading langchain_google_genai-1.0.9-py3-none-any.whl (39 kB)\n",
      "Using cached google_generativeai-0.7.2-py3-none-any.whl (164 kB)\n",
      "Using cached google_ai_generativelanguage-0.6.6-py3-none-any.whl (718 kB)\n",
      "Using cached google_api_core-2.19.1-py3-none-any.whl (139 kB)\n",
      "Downloading google_auth-2.33.0-py2.py3-none-any.whl (200 kB)\n",
      "   ---------------------------------------- 0.0/200.5 kB ? eta -:--:--\n",
      "   -------------- ------------------------- 71.7/200.5 kB 1.9 MB/s eta 0:00:01\n",
      "   -------------------------------------- - 194.6/200.5 kB 2.0 MB/s eta 0:00:01\n",
      "   ---------------------------------------- 200.5/200.5 kB 1.7 MB/s eta 0:00:00\n",
      "Downloading google_api_python_client-2.141.0-py2.py3-none-any.whl (12.2 MB)\n",
      "   ---------------------------------------- 0.0/12.2 MB ? eta -:--:--\n",
      "   ---------------------------------------- 0.1/12.2 MB ? eta -:--:--\n",
      "   - -------------------------------------- 0.4/12.2 MB 4.6 MB/s eta 0:00:03\n",
      "   - -------------------------------------- 0.5/12.2 MB 3.9 MB/s eta 0:00:04\n",
      "   --- ------------------------------------ 1.0/12.2 MB 5.5 MB/s eta 0:00:03\n",
      "   ---- ----------------------------------- 1.4/12.2 MB 6.5 MB/s eta 0:00:02\n",
      "   ----- ---------------------------------- 1.6/12.2 MB 6.8 MB/s eta 0:00:02\n",
      "   ----- ---------------------------------- 1.6/12.2 MB 6.8 MB/s eta 0:00:02\n",
      "   ----- ---------------------------------- 1.6/12.2 MB 6.8 MB/s eta 0:00:02\n",
      "   ----- ---------------------------------- 1.6/12.2 MB 6.8 MB/s eta 0:00:02\n",
      "   ------------- -------------------------- 4.2/12.2 MB 9.2 MB/s eta 0:00:01\n",
      "   --------------- ------------------------ 4.7/12.2 MB 9.4 MB/s eta 0:00:01\n",
      "   ---------------- ----------------------- 4.9/12.2 MB 9.4 MB/s eta 0:00:01\n",
      "   ---------------- ----------------------- 4.9/12.2 MB 9.4 MB/s eta 0:00:01\n",
      "   -------------------- ------------------- 6.3/12.2 MB 9.9 MB/s eta 0:00:01\n",
      "   ---------------------- ----------------- 7.0/12.2 MB 10.1 MB/s eta 0:00:01\n",
      "   ------------------------ --------------- 7.5/12.2 MB 10.2 MB/s eta 0:00:01\n",
      "   -------------------------- ------------- 8.1/12.2 MB 10.3 MB/s eta 0:00:01\n",
      "   ---------------------------- ----------- 8.7/12.2 MB 10.4 MB/s eta 0:00:01\n",
      "   ------------------------------ --------- 9.2/12.2 MB 10.5 MB/s eta 0:00:01\n",
      "   -------------------------------- ------- 9.7/12.2 MB 10.6 MB/s eta 0:00:01\n",
      "   --------------------------------- ------ 10.3/12.2 MB 10.6 MB/s eta 0:00:01\n",
      "   ----------------------------------- ---- 10.8/12.2 MB 11.7 MB/s eta 0:00:01\n",
      "   ------------------------------------- -- 11.4/12.2 MB 11.9 MB/s eta 0:00:01\n",
      "   ---------------------------------------  12.0/12.2 MB 14.9 MB/s eta 0:00:01\n",
      "   ---------------------------------------  12.1/12.2 MB 14.6 MB/s eta 0:00:01\n",
      "   ---------------------------------------- 12.2/12.2 MB 13.6 MB/s eta 0:00:00\n",
      "Using cached google_auth_httplib2-0.2.0-py2.py3-none-any.whl (9.3 kB)\n",
      "Using cached googleapis_common_protos-1.63.2-py2.py3-none-any.whl (220 kB)\n",
      "Using cached httplib2-0.22.0-py3-none-any.whl (96 kB)\n",
      "Using cached proto_plus-1.24.0-py3-none-any.whl (50 kB)\n",
      "Using cached rsa-4.9-py3-none-any.whl (34 kB)\n",
      "Using cached uritemplate-4.1.1-py2.py3-none-any.whl (10 kB)\n",
      "Downloading grpcio-1.65.5-cp311-cp311-win_amd64.whl (4.1 MB)\n",
      "   ---------------------------------------- 0.0/4.1 MB ? eta -:--:--\n",
      "   ----- ---------------------------------- 0.6/4.1 MB 12.0 MB/s eta 0:00:01\n",
      "   ---------- ----------------------------- 1.1/4.1 MB 12.0 MB/s eta 0:00:01\n",
      "   ---------------- ----------------------- 1.7/4.1 MB 11.9 MB/s eta 0:00:01\n",
      "   --------------------- ------------------ 2.2/4.1 MB 11.8 MB/s eta 0:00:01\n",
      "   -------------------------- ------------- 2.8/4.1 MB 11.8 MB/s eta 0:00:01\n",
      "   -------------------------------- ------- 3.3/4.1 MB 11.8 MB/s eta 0:00:01\n",
      "   ------------------------------------- -- 3.9/4.1 MB 11.8 MB/s eta 0:00:01\n",
      "   ---------------------------------------- 4.1/4.1 MB 11.0 MB/s eta 0:00:00\n",
      "Using cached grpcio_status-1.62.3-py3-none-any.whl (14 kB)\n",
      "Downloading protobuf-4.25.4-cp310-abi3-win_amd64.whl (413 kB)\n",
      "   ---------------------------------------- 0.0/413.4 kB ? eta -:--:--\n",
      "   ---------------------------------------- 413.4/413.4 kB 8.6 MB/s eta 0:00:00\n",
      "Installing collected packages: uritemplate, rsa, protobuf, httplib2, grpcio, proto-plus, googleapis-common-protos, google-auth, grpcio-status, google-auth-httplib2, google-api-core, google-api-python-client, google-ai-generativelanguage, google-generativeai, langchain-google-genai\n",
      "  Attempting uninstall: protobuf\n",
      "    Found existing installation: protobuf 3.20.3\n",
      "    Uninstalling protobuf-3.20.3:\n",
      "      Successfully uninstalled protobuf-3.20.3\n",
      "Successfully installed google-ai-generativelanguage-0.6.6 google-api-core-2.19.1 google-api-python-client-2.141.0 google-auth-2.33.0 google-auth-httplib2-0.2.0 google-generativeai-0.7.2 googleapis-common-protos-1.63.2 grpcio-1.65.5 grpcio-status-1.62.3 httplib2-0.22.0 langchain-google-genai-1.0.9 proto-plus-1.24.0 protobuf-4.25.4 rsa-4.9 uritemplate-4.1.1\n"
     ]
    },
    {
     "name": "stderr",
     "output_type": "stream",
     "text": [
      "ERROR: pip's dependency resolver does not currently take into account all the packages that are installed. This behaviour is the source of the following dependency conflicts.\n",
      "streamlit 1.30.0 requires packaging<24,>=16.8, but you have packaging 24.1 which is incompatible.\n"
     ]
    },
    {
     "name": "stdout",
     "output_type": "stream",
     "text": [
      "Requirement already satisfied: google-generativeai in c:\\anaconda\\lib\\site-packages (0.7.2)\n",
      "Requirement already satisfied: google-ai-generativelanguage==0.6.6 in c:\\anaconda\\lib\\site-packages (from google-generativeai) (0.6.6)\n",
      "Requirement already satisfied: google-api-core in c:\\anaconda\\lib\\site-packages (from google-generativeai) (2.19.1)\n",
      "Requirement already satisfied: google-api-python-client in c:\\anaconda\\lib\\site-packages (from google-generativeai) (2.141.0)\n",
      "Requirement already satisfied: google-auth>=2.15.0 in c:\\anaconda\\lib\\site-packages (from google-generativeai) (2.33.0)\n",
      "Requirement already satisfied: protobuf in c:\\anaconda\\lib\\site-packages (from google-generativeai) (4.25.4)\n",
      "Requirement already satisfied: pydantic in c:\\anaconda\\lib\\site-packages (from google-generativeai) (1.10.12)\n",
      "Requirement already satisfied: tqdm in c:\\anaconda\\lib\\site-packages (from google-generativeai) (4.65.0)\n",
      "Requirement already satisfied: typing-extensions in c:\\anaconda\\lib\\site-packages (from google-generativeai) (4.12.2)\n",
      "Requirement already satisfied: proto-plus<2.0.0dev,>=1.22.3 in c:\\anaconda\\lib\\site-packages (from google-ai-generativelanguage==0.6.6->google-generativeai) (1.24.0)\n",
      "Requirement already satisfied: googleapis-common-protos<2.0.dev0,>=1.56.2 in c:\\anaconda\\lib\\site-packages (from google-api-core->google-generativeai) (1.63.2)\n",
      "Requirement already satisfied: requests<3.0.0.dev0,>=2.18.0 in c:\\anaconda\\lib\\site-packages (from google-api-core->google-generativeai) (2.31.0)\n",
      "Requirement already satisfied: cachetools<6.0,>=2.0.0 in c:\\anaconda\\lib\\site-packages (from google-auth>=2.15.0->google-generativeai) (4.2.2)\n",
      "Requirement already satisfied: pyasn1-modules>=0.2.1 in c:\\anaconda\\lib\\site-packages (from google-auth>=2.15.0->google-generativeai) (0.2.8)\n",
      "Requirement already satisfied: rsa<5,>=3.1.4 in c:\\anaconda\\lib\\site-packages (from google-auth>=2.15.0->google-generativeai) (4.9)\n",
      "Requirement already satisfied: httplib2<1.dev0,>=0.19.0 in c:\\anaconda\\lib\\site-packages (from google-api-python-client->google-generativeai) (0.22.0)\n",
      "Requirement already satisfied: google-auth-httplib2<1.0.0,>=0.2.0 in c:\\anaconda\\lib\\site-packages (from google-api-python-client->google-generativeai) (0.2.0)\n",
      "Requirement already satisfied: uritemplate<5,>=3.0.1 in c:\\anaconda\\lib\\site-packages (from google-api-python-client->google-generativeai) (4.1.1)\n",
      "Requirement already satisfied: colorama in c:\\anaconda\\lib\\site-packages (from tqdm->google-generativeai) (0.4.6)\n",
      "Requirement already satisfied: grpcio<2.0dev,>=1.33.2 in c:\\anaconda\\lib\\site-packages (from google-api-core[grpc]!=2.0.*,!=2.1.*,!=2.10.*,!=2.2.*,!=2.3.*,!=2.4.*,!=2.5.*,!=2.6.*,!=2.7.*,!=2.8.*,!=2.9.*,<3.0.0dev,>=1.34.1->google-ai-generativelanguage==0.6.6->google-generativeai) (1.65.5)\n",
      "Requirement already satisfied: grpcio-status<2.0.dev0,>=1.33.2 in c:\\anaconda\\lib\\site-packages (from google-api-core[grpc]!=2.0.*,!=2.1.*,!=2.10.*,!=2.2.*,!=2.3.*,!=2.4.*,!=2.5.*,!=2.6.*,!=2.7.*,!=2.8.*,!=2.9.*,<3.0.0dev,>=1.34.1->google-ai-generativelanguage==0.6.6->google-generativeai) (1.62.3)\n",
      "Requirement already satisfied: pyparsing!=3.0.0,!=3.0.1,!=3.0.2,!=3.0.3,<4,>=2.4.2 in c:\\anaconda\\lib\\site-packages (from httplib2<1.dev0,>=0.19.0->google-api-python-client->google-generativeai) (3.0.9)\n",
      "Requirement already satisfied: pyasn1<0.5.0,>=0.4.6 in c:\\anaconda\\lib\\site-packages (from pyasn1-modules>=0.2.1->google-auth>=2.15.0->google-generativeai) (0.4.8)\n",
      "Requirement already satisfied: charset-normalizer<4,>=2 in c:\\anaconda\\lib\\site-packages (from requests<3.0.0.dev0,>=2.18.0->google-api-core->google-generativeai) (2.0.4)\n",
      "Requirement already satisfied: idna<4,>=2.5 in c:\\anaconda\\lib\\site-packages (from requests<3.0.0.dev0,>=2.18.0->google-api-core->google-generativeai) (3.4)\n",
      "Requirement already satisfied: urllib3<3,>=1.21.1 in c:\\anaconda\\lib\\site-packages (from requests<3.0.0.dev0,>=2.18.0->google-api-core->google-generativeai) (1.26.16)\n",
      "Requirement already satisfied: certifi>=2017.4.17 in c:\\anaconda\\lib\\site-packages (from requests<3.0.0.dev0,>=2.18.0->google-api-core->google-generativeai) (2024.6.2)\n",
      "Requirement already satisfied: tavily-python in c:\\anaconda\\lib\\site-packages (0.4.0)\n",
      "Requirement already satisfied: requests in c:\\anaconda\\lib\\site-packages (from tavily-python) (2.31.0)\n",
      "Requirement already satisfied: tiktoken>=0.5.1 in c:\\anaconda\\lib\\site-packages (from tavily-python) (0.7.0)\n",
      "Requirement already satisfied: httpx in c:\\anaconda\\lib\\site-packages (from tavily-python) (0.26.0)\n",
      "Requirement already satisfied: regex>=2022.1.18 in c:\\anaconda\\lib\\site-packages (from tiktoken>=0.5.1->tavily-python) (2023.10.3)\n",
      "Requirement already satisfied: charset-normalizer<4,>=2 in c:\\anaconda\\lib\\site-packages (from requests->tavily-python) (2.0.4)\n",
      "Requirement already satisfied: idna<4,>=2.5 in c:\\anaconda\\lib\\site-packages (from requests->tavily-python) (3.4)\n",
      "Requirement already satisfied: urllib3<3,>=1.21.1 in c:\\anaconda\\lib\\site-packages (from requests->tavily-python) (1.26.16)\n",
      "Requirement already satisfied: certifi>=2017.4.17 in c:\\anaconda\\lib\\site-packages (from requests->tavily-python) (2024.6.2)\n",
      "Requirement already satisfied: anyio in c:\\anaconda\\lib\\site-packages (from httpx->tavily-python) (4.2.0)\n",
      "Requirement already satisfied: httpcore==1.* in c:\\anaconda\\lib\\site-packages (from httpx->tavily-python) (1.0.2)\n",
      "Requirement already satisfied: sniffio in c:\\anaconda\\lib\\site-packages (from httpx->tavily-python) (1.3.0)\n",
      "Requirement already satisfied: h11<0.15,>=0.13 in c:\\anaconda\\lib\\site-packages (from httpcore==1.*->httpx->tavily-python) (0.14.0)\n"
     ]
    }
   ],
   "source": [
    "!pip install langchain\n",
    "!pip install langchain-google-genai\n",
    "!pip install google-generativeai\n",
    "!pip install tavily-python"
   ]
  },
  {
   "cell_type": "code",
   "execution_count": 17,
   "id": "546393cb-768c-4960-9949-b1c9d45c00bf",
   "metadata": {},
   "outputs": [],
   "source": [
    "import os \n",
    "import getpass"
   ]
  },
  {
   "cell_type": "code",
   "execution_count": 35,
   "id": "7ed60d9a-4b87-452e-b5e8-5655807f7930",
   "metadata": {},
   "outputs": [
    {
     "name": "stdin",
     "output_type": "stream",
     "text": [
      "Google API Key ········\n",
      "Tavily API Key ········\n"
     ]
    }
   ],
   "source": [
    "os.environ[\"GOOGLE_API_KEY\"] = getpass.getpass(\"Google API Key\")\n",
    "os.environ[\"TAVILY_API_KEY\"] = getpass.getpass(\"Tavily API Key\")"
   ]
  },
  {
   "cell_type": "markdown",
   "id": "1cfa4345-0ef4-421f-bc02-462e48652818",
   "metadata": {},
   "source": [
    "Optionally we can set API key for Langsmith tracing which will give best in class observability "
   ]
  },
  {
   "cell_type": "code",
   "execution_count": 21,
   "id": "b90f40b5-1785-41f1-a058-4b4cf3297faa",
   "metadata": {},
   "outputs": [
    {
     "name": "stdin",
     "output_type": "stream",
     "text": [
      "Langsmith API Key ········\n"
     ]
    }
   ],
   "source": [
    "os.environ[\"LANGCHAIN_TRACING_V2\"] = \"true\"\n",
    "os.environ[\"LANGCHAIN_API_KEY\"] = getpass.getpass(\"Langsmith API Key\")"
   ]
  },
  {
   "cell_type": "markdown",
   "id": "08342646-0d02-418e-bb07-0cb54c80e19f",
   "metadata": {},
   "source": [
    "## Create the Langchain Agent"
   ]
  },
  {
   "cell_type": "markdown",
   "id": "ce42ebdf-70e6-4087-861f-53df32937f99",
   "metadata": {},
   "source": [
    "First we will create the langchain agent "
   ]
  },
  {
   "cell_type": "code",
   "execution_count": 31,
   "id": "58d9f2c2-2449-41c3-ad4c-843b7345b9a2",
   "metadata": {},
   "outputs": [
    {
     "name": "stdout",
     "output_type": "stream",
     "text": [
      "Collecting langchain-community\n",
      "  Downloading langchain_community-0.2.12-py3-none-any.whl.metadata (2.7 kB)\n",
      "Requirement already satisfied: PyYAML>=5.3 in c:\\anaconda\\lib\\site-packages (from langchain-community) (6.0.1)\n",
      "Requirement already satisfied: SQLAlchemy<3,>=1.4 in c:\\anaconda\\lib\\site-packages (from langchain-community) (2.0.25)\n",
      "Requirement already satisfied: aiohttp<4.0.0,>=3.8.3 in c:\\anaconda\\lib\\site-packages (from langchain-community) (3.9.3)\n",
      "Collecting dataclasses-json<0.7,>=0.5.7 (from langchain-community)\n",
      "  Using cached dataclasses_json-0.6.7-py3-none-any.whl.metadata (25 kB)\n",
      "Requirement already satisfied: langchain<0.3.0,>=0.2.13 in c:\\anaconda\\lib\\site-packages (from langchain-community) (0.2.14)\n",
      "Requirement already satisfied: langchain-core<0.3.0,>=0.2.30 in c:\\anaconda\\lib\\site-packages (from langchain-community) (0.2.33)\n",
      "Requirement already satisfied: langsmith<0.2.0,>=0.1.0 in c:\\anaconda\\lib\\site-packages (from langchain-community) (0.1.99)\n",
      "Requirement already satisfied: numpy<2,>=1 in c:\\anaconda\\lib\\site-packages (from langchain-community) (1.26.4)\n",
      "Requirement already satisfied: requests<3,>=2 in c:\\anaconda\\lib\\site-packages (from langchain-community) (2.31.0)\n",
      "Requirement already satisfied: tenacity!=8.4.0,<9.0.0,>=8.1.0 in c:\\anaconda\\lib\\site-packages (from langchain-community) (8.2.2)\n",
      "Requirement already satisfied: aiosignal>=1.1.2 in c:\\anaconda\\lib\\site-packages (from aiohttp<4.0.0,>=3.8.3->langchain-community) (1.2.0)\n",
      "Requirement already satisfied: attrs>=17.3.0 in c:\\anaconda\\lib\\site-packages (from aiohttp<4.0.0,>=3.8.3->langchain-community) (23.1.0)\n",
      "Requirement already satisfied: frozenlist>=1.1.1 in c:\\anaconda\\lib\\site-packages (from aiohttp<4.0.0,>=3.8.3->langchain-community) (1.4.0)\n",
      "Requirement already satisfied: multidict<7.0,>=4.5 in c:\\anaconda\\lib\\site-packages (from aiohttp<4.0.0,>=3.8.3->langchain-community) (6.0.4)\n",
      "Requirement already satisfied: yarl<2.0,>=1.0 in c:\\anaconda\\lib\\site-packages (from aiohttp<4.0.0,>=3.8.3->langchain-community) (1.9.3)\n",
      "Collecting marshmallow<4.0.0,>=3.18.0 (from dataclasses-json<0.7,>=0.5.7->langchain-community)\n",
      "  Using cached marshmallow-3.21.3-py3-none-any.whl.metadata (7.1 kB)\n",
      "Collecting typing-inspect<1,>=0.4.0 (from dataclasses-json<0.7,>=0.5.7->langchain-community)\n",
      "  Using cached typing_inspect-0.9.0-py3-none-any.whl.metadata (1.5 kB)\n",
      "Requirement already satisfied: langchain-text-splitters<0.3.0,>=0.2.0 in c:\\anaconda\\lib\\site-packages (from langchain<0.3.0,>=0.2.13->langchain-community) (0.2.2)\n",
      "Requirement already satisfied: pydantic<3,>=1 in c:\\anaconda\\lib\\site-packages (from langchain<0.3.0,>=0.2.13->langchain-community) (1.10.12)\n",
      "Requirement already satisfied: jsonpatch<2.0,>=1.33 in c:\\anaconda\\lib\\site-packages (from langchain-core<0.3.0,>=0.2.30->langchain-community) (1.33)\n",
      "Requirement already satisfied: packaging<25,>=23.2 in c:\\anaconda\\lib\\site-packages (from langchain-core<0.3.0,>=0.2.30->langchain-community) (24.1)\n",
      "Requirement already satisfied: typing-extensions>=4.7 in c:\\anaconda\\lib\\site-packages (from langchain-core<0.3.0,>=0.2.30->langchain-community) (4.12.2)\n",
      "Requirement already satisfied: orjson<4.0.0,>=3.9.14 in c:\\anaconda\\lib\\site-packages (from langsmith<0.2.0,>=0.1.0->langchain-community) (3.10.7)\n",
      "Requirement already satisfied: charset-normalizer<4,>=2 in c:\\anaconda\\lib\\site-packages (from requests<3,>=2->langchain-community) (2.0.4)\n",
      "Requirement already satisfied: idna<4,>=2.5 in c:\\anaconda\\lib\\site-packages (from requests<3,>=2->langchain-community) (3.4)\n",
      "Requirement already satisfied: urllib3<3,>=1.21.1 in c:\\anaconda\\lib\\site-packages (from requests<3,>=2->langchain-community) (1.26.16)\n",
      "Requirement already satisfied: certifi>=2017.4.17 in c:\\anaconda\\lib\\site-packages (from requests<3,>=2->langchain-community) (2024.6.2)\n",
      "Requirement already satisfied: greenlet!=0.4.17 in c:\\anaconda\\lib\\site-packages (from SQLAlchemy<3,>=1.4->langchain-community) (3.0.1)\n",
      "Requirement already satisfied: jsonpointer>=1.9 in c:\\anaconda\\lib\\site-packages (from jsonpatch<2.0,>=1.33->langchain-core<0.3.0,>=0.2.30->langchain-community) (2.1)\n",
      "Requirement already satisfied: mypy-extensions>=0.3.0 in c:\\anaconda\\lib\\site-packages (from typing-inspect<1,>=0.4.0->dataclasses-json<0.7,>=0.5.7->langchain-community) (1.0.0)\n",
      "Downloading langchain_community-0.2.12-py3-none-any.whl (2.3 MB)\n",
      "   ---------------------------------------- 0.0/2.3 MB ? eta -:--:--\n",
      "   ---------------------------------------- 0.0/2.3 MB ? eta -:--:--\n",
      "   ---------------------------------------- 0.0/2.3 MB 162.5 kB/s eta 0:00:15\n",
      "    --------------------------------------- 0.0/2.3 MB 245.8 kB/s eta 0:00:10\n",
      "   - -------------------------------------- 0.1/2.3 MB 328.2 kB/s eta 0:00:07\n",
      "   - -------------------------------------- 0.1/2.3 MB 504.4 kB/s eta 0:00:05\n",
      "   --- ------------------------------------ 0.2/2.3 MB 769.9 kB/s eta 0:00:03\n",
      "   ----- ---------------------------------- 0.3/2.3 MB 965.4 kB/s eta 0:00:03\n",
      "   ------- -------------------------------- 0.4/2.3 MB 1.2 MB/s eta 0:00:02\n",
      "   ------------ --------------------------- 0.7/2.3 MB 1.8 MB/s eta 0:00:01\n",
      "   -------------------- ------------------- 1.2/2.3 MB 2.6 MB/s eta 0:00:01\n",
      "   ------------------------------ --------- 1.7/2.3 MB 3.5 MB/s eta 0:00:01\n",
      "   ------------------------------------ --- 2.1/2.3 MB 4.0 MB/s eta 0:00:01\n",
      "   ------------------------------------ --- 2.1/2.3 MB 4.0 MB/s eta 0:00:01\n",
      "   ---------------------------------------- 2.3/2.3 MB 3.7 MB/s eta 0:00:00\n",
      "Using cached dataclasses_json-0.6.7-py3-none-any.whl (28 kB)\n",
      "Using cached marshmallow-3.21.3-py3-none-any.whl (49 kB)\n",
      "Using cached typing_inspect-0.9.0-py3-none-any.whl (8.8 kB)\n",
      "Installing collected packages: typing-inspect, marshmallow, dataclasses-json, langchain-community\n",
      "Successfully installed dataclasses-json-0.6.7 langchain-community-0.2.12 marshmallow-3.21.3 typing-inspect-0.9.0\n"
     ]
    }
   ],
   "source": [
    "   !pip install langchain-community\n",
    "   "
   ]
  },
  {
   "cell_type": "code",
   "execution_count": 80,
   "id": "ad9f95d2-56ce-4b2c-91d8-f112755c5509",
   "metadata": {},
   "outputs": [],
   "source": [
    "from langchain import hub\n",
    "from langchain.agents import create_openai_functions_agent\n",
    "from langchain_google_genai import ChatGoogleGenerativeAI\n",
    "from langchain_community.tools.tavily_search import TavilySearchResults\n",
    "\n",
    "tools = [TavilySearchResults(max_results=1)]\n",
    "\n",
    "# Get the prompt to use\n",
    "prompt = hub.pull(\"hwchase17/openai-functions-agent\")\n",
    "\n",
    "# Choose the LLM that will drive the agent (Gemini Flash)\n",
    "llm = ChatGoogleGenerativeAI(model=\"gemini-1.5-flash\", streaming=True)\n",
    "\n",
    "# Construct the agent\n",
    "agent_runnable = create_openai_functions_agent(llm, tools, prompt)"
   ]
  },
  {
   "cell_type": "markdown",
   "id": "0e867edc-19f9-472b-bb03-1955c8ffe4a3",
   "metadata": {},
   "source": [
    "## Define the graph state\n",
    "\n",
    "We define the graph state \n",
    "The traditional langchain agent has a few attributes:\n",
    "\n",
    "1. input\n",
    "2. chat history\n",
    "3. intermediate steps : List of actions the agent takes over time . This is updated each ireration of the agent\n",
    "4. agent_outcome: Response from the agent . Either an AgentAction or AgentFinish . The AgentExecutor should finish when this is an AgentFinish otherwise ,it should call the requested tools "
   ]
  },
  {
   "cell_type": "code",
   "execution_count": 82,
   "id": "5bdc6206-f31d-46f8-bd42-34886e4cc657",
   "metadata": {},
   "outputs": [],
   "source": [
    "from typing import TypedDict, Annotated, List, Union\n",
    "from langchain_core.agents import AgentAction, AgentFinish \n",
    "from langchain_core.messages import BaseMessage\n",
    "import operator \n",
    "\n",
    "class AgentState(TypedDict):\n",
    "    #The input string\n",
    "    input: str\n",
    "    #the list of previous messages in the conversation\n",
    "    chat_history: list[BaseMessage]\n",
    "    #The outcome of a given call to the agent \n",
    "    # Needs 'None' as a valid type, since this is what this will start as\n",
    "    agent_outcome: Union[AgentAction, AgentFinish , None]\n",
    "    #List of actions and corresponding observations\n",
    "    #Here we annotate this with operator.add to indicate that operations to this state \n",
    "    # should be added to the existing values (Not overwrite it)\n",
    "    intermediate_steps: Annotated[list[tuple[AgentAction, str]], operator.add]"
   ]
  },
  {
   "cell_type": "markdown",
   "id": "3c77a644-333c-4025-a7fa-4540cbabf4c5",
   "metadata": {},
   "source": [
    "## Define the nodes \n",
    "\n",
    "We now ned to define a few different nodes in our graph. In langgraph , a  node can either be a  function or a runnable . \n",
    "There are two main nodes we need for this:\n",
    "\n",
    "1. The agent : Responsible for deciding what (if any) actions to take\n",
    "2. A function to invoke tools: If the agent decides to take an action, this node will then execute that action\n",
    "\n",
    "We will need to define some edges. Some of these edges may be conditional. The reason they are conditional is based on the output of a node, one of several paths ma be taken. \n",
    "The path that isnt known until that node is run.(the llm decides )\n",
    "\n",
    "1. Conditional Edge: After the agent is called we should either \n",
    "    a. If the agent is said to take an action , then the function to invoke tools shoould be called \n",
    "    b. If the agent said that it was finished ,then it should finish\n",
    "    \n",
    "2. Normal Edge: After the tools are invoked ,it should always go back to the agent to decide what to do next\n",
    "\n",
    "Lets define the nodes, as well as a function to decide how what conditional edge to take"
   ]
  },
  {
   "cell_type": "code",
   "execution_count": 58,
   "id": "0abb93d5-7ca8-4d64-a59e-8a511eb82dd9",
   "metadata": {},
   "outputs": [
    {
     "name": "stdout",
     "output_type": "stream",
     "text": [
      "Collecting langgraphNote: you may need to restart the kernel to use updated packages.\n",
      "\n",
      "  Downloading langgraph-0.2.4-py3-none-any.whl.metadata (13 kB)\n",
      "Requirement already satisfied: langchain-core<0.3,>=0.2.27 in c:\\anaconda\\lib\\site-packages (from langgraph) (0.2.33)\n",
      "Collecting langgraph-checkpoint<2.0.0,>=1.0.2 (from langgraph)\n",
      "  Downloading langgraph_checkpoint-1.0.3-py3-none-any.whl.metadata (4.6 kB)\n",
      "Requirement already satisfied: PyYAML>=5.3 in c:\\anaconda\\lib\\site-packages (from langchain-core<0.3,>=0.2.27->langgraph) (6.0.1)\n",
      "Requirement already satisfied: jsonpatch<2.0,>=1.33 in c:\\anaconda\\lib\\site-packages (from langchain-core<0.3,>=0.2.27->langgraph) (1.33)\n",
      "Requirement already satisfied: langsmith<0.2.0,>=0.1.75 in c:\\anaconda\\lib\\site-packages (from langchain-core<0.3,>=0.2.27->langgraph) (0.1.99)\n",
      "Requirement already satisfied: packaging<25,>=23.2 in c:\\anaconda\\lib\\site-packages (from langchain-core<0.3,>=0.2.27->langgraph) (24.1)\n",
      "Requirement already satisfied: pydantic<3,>=1 in c:\\anaconda\\lib\\site-packages (from langchain-core<0.3,>=0.2.27->langgraph) (1.10.12)\n",
      "Requirement already satisfied: tenacity!=8.4.0,<9.0.0,>=8.1.0 in c:\\anaconda\\lib\\site-packages (from langchain-core<0.3,>=0.2.27->langgraph) (8.2.2)\n",
      "Requirement already satisfied: typing-extensions>=4.7 in c:\\anaconda\\lib\\site-packages (from langchain-core<0.3,>=0.2.27->langgraph) (4.12.2)\n",
      "Requirement already satisfied: jsonpointer>=1.9 in c:\\anaconda\\lib\\site-packages (from jsonpatch<2.0,>=1.33->langchain-core<0.3,>=0.2.27->langgraph) (2.1)\n",
      "Requirement already satisfied: orjson<4.0.0,>=3.9.14 in c:\\anaconda\\lib\\site-packages (from langsmith<0.2.0,>=0.1.75->langchain-core<0.3,>=0.2.27->langgraph) (3.10.7)\n",
      "Requirement already satisfied: requests<3,>=2 in c:\\anaconda\\lib\\site-packages (from langsmith<0.2.0,>=0.1.75->langchain-core<0.3,>=0.2.27->langgraph) (2.31.0)\n",
      "Requirement already satisfied: charset-normalizer<4,>=2 in c:\\anaconda\\lib\\site-packages (from requests<3,>=2->langsmith<0.2.0,>=0.1.75->langchain-core<0.3,>=0.2.27->langgraph) (2.0.4)\n",
      "Requirement already satisfied: idna<4,>=2.5 in c:\\anaconda\\lib\\site-packages (from requests<3,>=2->langsmith<0.2.0,>=0.1.75->langchain-core<0.3,>=0.2.27->langgraph) (3.4)\n",
      "Requirement already satisfied: urllib3<3,>=1.21.1 in c:\\anaconda\\lib\\site-packages (from requests<3,>=2->langsmith<0.2.0,>=0.1.75->langchain-core<0.3,>=0.2.27->langgraph) (1.26.16)\n",
      "Requirement already satisfied: certifi>=2017.4.17 in c:\\anaconda\\lib\\site-packages (from requests<3,>=2->langsmith<0.2.0,>=0.1.75->langchain-core<0.3,>=0.2.27->langgraph) (2024.6.2)\n",
      "Downloading langgraph-0.2.4-py3-none-any.whl (81 kB)\n",
      "   ---------------------------------------- 0.0/81.8 kB ? eta -:--:--\n",
      "   ---------------------------------------- 0.0/81.8 kB ? eta -:--:--\n",
      "   ----- ---------------------------------- 10.2/81.8 kB ? eta -:--:--\n",
      "   -------------------- ------------------- 41.0/81.8 kB 393.8 kB/s eta 0:00:01\n",
      "   ---------------------------------------- 81.8/81.8 kB 507.4 kB/s eta 0:00:00\n",
      "Downloading langgraph_checkpoint-1.0.3-py3-none-any.whl (15 kB)\n",
      "Installing collected packages: langgraph-checkpoint, langgraph\n",
      "Successfully installed langgraph-0.2.4 langgraph-checkpoint-1.0.3\n"
     ]
    }
   ],
   "source": [
    "\n",
    "pip install langgraph"
   ]
  },
  {
   "cell_type": "code",
   "execution_count": 84,
   "id": "3dc6bb0e-b7a5-4b0a-9a89-e852bad28390",
   "metadata": {},
   "outputs": [
    {
     "name": "stderr",
     "output_type": "stream",
     "text": [
      "C:\\Users\\VISIONARY\\AppData\\Local\\Temp\\ipykernel_16156\\471922365.py:6: LangGraphDeprecationWarning: ToolExecutor is deprecated as of version 0.2.0 and will be removed in 0.3.0. Use langgraph.prebuilt.ToolNode instead.\n",
      "  tool_executor = ToolExecutor(tools)\n"
     ]
    }
   ],
   "source": [
    "from langchain_core.agents import AgentFinish \n",
    "from langgraph.prebuilt.tool_executor import ToolExecutor\n",
    "\n",
    "# This a helper class useful for running tools \n",
    "# It takes in an agent action and calls that tool and returns the result\n",
    "tool_executor = ToolExecutor(tools)\n",
    "\n",
    "# Define the agent \n",
    "def run_agent (data):\n",
    "    agent_outcome = agent_runnable.invoke(data)\n",
    "    return {\"agent_outcome\": agent_outcome}\n",
    "\n",
    "# define the function to execute tools\n",
    "def execute_tools (data):\n",
    "    # Get the most recent agent outcome - this is the key added in the agent above\n",
    "    agent_action= data['agent_outcome']\n",
    "    output = tool_executor.invoke(agent_action)\n",
    "    return {\"intermediate_steps\": [(agent_action, str(output))]}\n",
    "\n",
    "# define logic that will be used to determine which conditional edge to go down\n",
    "def should_continue(data):\n",
    "    #if the agent outcome is an AgentFinish , then we return \"exit\" string\n",
    "    # This will be used when setting up the graph to define the flow\n",
    "    if isinstance (data['agent_outcome'], AgentFinish):\n",
    "        return \"end\"\n",
    "    #otherwise , An AgentAction is returned \n",
    "    #here we return \"continue string\"\n",
    "    #This will be used when setting up the graph to define the flow \n",
    "    else:\n",
    "        return \"continue\"    "
   ]
  },
  {
   "cell_type": "markdown",
   "id": "e13eec50-bb06-479d-8719-01cdde389cb8",
   "metadata": {},
   "source": [
    "## Define Graph\n",
    "\n",
    "we can now put it all together "
   ]
  },
  {
   "cell_type": "code",
   "execution_count": 86,
   "id": "1049c008-f216-46f5-a2e7-1497c0fce1dc",
   "metadata": {},
   "outputs": [],
   "source": [
    "from langgraph.graph import END , StateGraph\n",
    "\n",
    "# Define a new graph \n",
    "workflow = StateGraph(AgentState)\n",
    "\n",
    "#Define the two nodes we will cycle between \n",
    "workflow.add_node(\"agent\", run_agent)\n",
    "workflow.add_node(\"action\", execute_tools)\n",
    "\n",
    "#set the entr point as agent\n",
    "# This means that this node is the first one called \n",
    "workflow.set_entry_point(\"agent\")\n",
    "\n",
    "#we now add a conditional edge \n",
    "workflow.add_conditional_edges(\n",
    "    #define the start node. We use 'agent'\n",
    "    #this means these are the edges taken after the 'agent' node is called\n",
    "    \"agent\",\n",
    "    # next we pass in the function that will determine which node is called next \n",
    "    should_continue ,\n",
    "    #finally we pass a mapping\n",
    "    #the keys are strings and the values are the other nodes \n",
    "    #END is a special nide marking that the graph should finish\n",
    "    #when should_continue is called , the output of that will be matched against the keys in this mapping\n",
    "    #Based on which one it matches , that node will hen be called \n",
    "    {\n",
    "        #if 'tools', then we wll call the tool node\n",
    "        \"continue\":\"action\",\n",
    "        #otherwise we finish\n",
    "        \"end\": END \n",
    "    }\n",
    "\n",
    ")\n",
    "\n",
    "\n",
    "#we now add a normal edge from tools to agent\n",
    "#This means that after 'tools' is called , 'agent' node is called next\n",
    "workflow.add_edge('action', 'agent')\n",
    "\n",
    "#finally we compile it\n",
    "#this compiles it into a langchain runnable\n",
    "#meaning u can use it as u would any other runnable\n",
    "app = workflow.compile()"
   ]
  },
  {
   "cell_type": "code",
   "execution_count": 90,
   "id": "eaef52f9-87c0-4db9-a3f2-65acfec0983d",
   "metadata": {},
   "outputs": [
    {
     "name": "stdout",
     "output_type": "stream",
     "text": [
      "{'agent_outcome': AgentActionMessageLog(tool='tavily_search_results_json', tool_input={'query': 'weather in sf'}, log=\"\\nInvoking: `tavily_search_results_json` with `{'query': 'weather in sf'}`\\n\\n\\n\", message_log=[AIMessage(content='', additional_kwargs={'function_call': {'name': 'tavily_search_results_json', 'arguments': '{\"query\": \"weather in sf\"}'}}, response_metadata={'prompt_feedback': {'block_reason': 0, 'safety_ratings': []}, 'finish_reason': 'STOP', 'safety_ratings': [{'category': 'HARM_CATEGORY_SEXUALLY_EXPLICIT', 'probability': 'NEGLIGIBLE', 'blocked': False}, {'category': 'HARM_CATEGORY_HARASSMENT', 'probability': 'NEGLIGIBLE', 'blocked': False}, {'category': 'HARM_CATEGORY_HATE_SPEECH', 'probability': 'NEGLIGIBLE', 'blocked': False}, {'category': 'HARM_CATEGORY_DANGEROUS_CONTENT', 'probability': 'NEGLIGIBLE', 'blocked': False}]}, id='run-7aae4b40-7040-4bf4-8ed1-3cd60f23f764-0', tool_calls=[{'name': 'tavily_search_results_json', 'args': {'query': 'weather in sf'}, 'id': '30fb3702-6595-4bc2-9a03-a301ff40198a', 'type': 'tool_call'}], usage_metadata={'input_tokens': 85, 'output_tokens': 22, 'total_tokens': 107})])}\n",
      "----\n",
      "{'intermediate_steps': [(AgentActionMessageLog(tool='tavily_search_results_json', tool_input={'query': 'weather in sf'}, log=\"\\nInvoking: `tavily_search_results_json` with `{'query': 'weather in sf'}`\\n\\n\\n\", message_log=[AIMessage(content='', additional_kwargs={'function_call': {'name': 'tavily_search_results_json', 'arguments': '{\"query\": \"weather in sf\"}'}}, response_metadata={'prompt_feedback': {'block_reason': 0, 'safety_ratings': []}, 'finish_reason': 'STOP', 'safety_ratings': [{'category': 'HARM_CATEGORY_SEXUALLY_EXPLICIT', 'probability': 'NEGLIGIBLE', 'blocked': False}, {'category': 'HARM_CATEGORY_HARASSMENT', 'probability': 'NEGLIGIBLE', 'blocked': False}, {'category': 'HARM_CATEGORY_HATE_SPEECH', 'probability': 'NEGLIGIBLE', 'blocked': False}, {'category': 'HARM_CATEGORY_DANGEROUS_CONTENT', 'probability': 'NEGLIGIBLE', 'blocked': False}]}, id='run-7aae4b40-7040-4bf4-8ed1-3cd60f23f764-0', tool_calls=[{'name': 'tavily_search_results_json', 'args': {'query': 'weather in sf'}, 'id': '30fb3702-6595-4bc2-9a03-a301ff40198a', 'type': 'tool_call'}], usage_metadata={'input_tokens': 85, 'output_tokens': 22, 'total_tokens': 107})]), '[{\\'url\\': \\'https://www.weatherapi.com/\\', \\'content\\': \"{\\'location\\': {\\'name\\': \\'San Francisco\\', \\'region\\': \\'California\\', \\'country\\': \\'United States of America\\', \\'lat\\': 37.78, \\'lon\\': -122.42, \\'tz_id\\': \\'America/Los_Angeles\\', \\'localtime_epoch\\': 1723918935, \\'localtime\\': \\'2024-08-17 11:22\\'}, \\'current\\': {\\'last_updated_epoch\\': 1723918500, \\'last_updated\\': \\'2024-08-17 11:15\\', \\'temp_c\\': 22.2, \\'temp_f\\': 72.0, \\'is_day\\': 1, \\'condition\\': {\\'text\\': \\'Partly cloudy\\', \\'icon\\': \\'//cdn.weatherapi.com/weather/64x64/day/116.png\\', \\'code\\': 1003}, \\'wind_mph\\': 4.3, \\'wind_kph\\': 6.8, \\'wind_degree\\': 220, \\'wind_dir\\': \\'SW\\', \\'pressure_mb\\': 1014.0, \\'pressure_in\\': 29.95, \\'precip_mm\\': 0.01, \\'precip_in\\': 0.0, \\'humidity\\': 76, \\'cloud\\': 75, \\'feelslike_c\\': 24.6, \\'feelslike_f\\': 76.3, \\'windchill_c\\': 17.2, \\'windchill_f\\': 63.0, \\'heatindex_c\\': 17.2, \\'heatindex_f\\': 63.0, \\'dewpoint_c\\': 14.4, \\'dewpoint_f\\': 57.9, \\'vis_km\\': 16.0, \\'vis_miles\\': 9.0, \\'uv\\': 4.0, \\'gust_mph\\': 10.7, \\'gust_kph\\': 17.3}}\"}]')]}\n",
      "----\n",
      "{'agent_outcome': AgentFinish(return_values={'output': 'The weather in San Francisco is partly cloudy with a temperature of 22.2 degrees Celsius (72 degrees Fahrenheit). The wind is blowing from the southwest at 4.3 mph (6.8 kph). \\n'}, log='The weather in San Francisco is partly cloudy with a temperature of 22.2 degrees Celsius (72 degrees Fahrenheit). The wind is blowing from the southwest at 4.3 mph (6.8 kph). \\n')}\n",
      "----\n"
     ]
    }
   ],
   "source": [
    "inputs ={\"input\": \"what is the weather in sf\", \"chat_history\": []}\n",
    "for s in app.stream(inputs):\n",
    "    print(list(s.values())[0])\n",
    "    print(\"----\")"
   ]
  },
  {
   "cell_type": "code",
   "execution_count": null,
   "id": "b7974f0d-8160-4296-b051-3d60d9588907",
   "metadata": {},
   "outputs": [],
   "source": []
  }
 ],
 "metadata": {
  "kernelspec": {
   "display_name": "Python 3 (ipykernel)",
   "language": "python",
   "name": "python3"
  },
  "language_info": {
   "codemirror_mode": {
    "name": "ipython",
    "version": 3
   },
   "file_extension": ".py",
   "mimetype": "text/x-python",
   "name": "python",
   "nbconvert_exporter": "python",
   "pygments_lexer": "ipython3",
   "version": "3.11.7"
  }
 },
 "nbformat": 4,
 "nbformat_minor": 5
}
