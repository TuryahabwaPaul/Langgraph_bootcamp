{
 "cells": [
  {
   "cell_type": "markdown",
   "id": "cd3143c8-682d-4f11-b282-500bb67effeb",
   "metadata": {},
   "source": [
    "# Basic multi-agent collaboration\n",
    "\n",
    "![Sample Image](https://langchain-ai.github.io/langgraph/tutorials/multi_agent/img/simple_multi_agent_diagram.png)"
   ]
  },
  {
   "cell_type": "code",
   "execution_count": 4,
   "id": "4c419864-77f9-4b01-b347-5d57a5589a6b",
   "metadata": {},
   "outputs": [
    {
     "name": "stdout",
     "output_type": "stream",
     "text": [
      "Requirement already satisfied: langchain in c:\\anaconda\\lib\\site-packages (0.2.14)\n",
      "Requirement already satisfied: PyYAML>=5.3 in c:\\anaconda\\lib\\site-packages (from langchain) (6.0.1)\n",
      "Requirement already satisfied: SQLAlchemy<3,>=1.4 in c:\\anaconda\\lib\\site-packages (from langchain) (2.0.25)\n",
      "Requirement already satisfied: aiohttp<4.0.0,>=3.8.3 in c:\\anaconda\\lib\\site-packages (from langchain) (3.9.3)\n",
      "Requirement already satisfied: langchain-core<0.3.0,>=0.2.32 in c:\\anaconda\\lib\\site-packages (from langchain) (0.2.33)\n",
      "Requirement already satisfied: langchain-text-splitters<0.3.0,>=0.2.0 in c:\\anaconda\\lib\\site-packages (from langchain) (0.2.2)\n",
      "Requirement already satisfied: langsmith<0.2.0,>=0.1.17 in c:\\anaconda\\lib\\site-packages (from langchain) (0.1.99)\n",
      "Requirement already satisfied: numpy<2,>=1 in c:\\anaconda\\lib\\site-packages (from langchain) (1.26.4)\n",
      "Requirement already satisfied: pydantic<3,>=1 in c:\\anaconda\\lib\\site-packages (from langchain) (1.10.12)\n",
      "Requirement already satisfied: requests<3,>=2 in c:\\anaconda\\lib\\site-packages (from langchain) (2.31.0)\n",
      "Requirement already satisfied: tenacity!=8.4.0,<9.0.0,>=8.1.0 in c:\\anaconda\\lib\\site-packages (from langchain) (8.2.2)\n",
      "Requirement already satisfied: aiosignal>=1.1.2 in c:\\anaconda\\lib\\site-packages (from aiohttp<4.0.0,>=3.8.3->langchain) (1.2.0)\n",
      "Requirement already satisfied: attrs>=17.3.0 in c:\\anaconda\\lib\\site-packages (from aiohttp<4.0.0,>=3.8.3->langchain) (23.1.0)\n",
      "Requirement already satisfied: frozenlist>=1.1.1 in c:\\anaconda\\lib\\site-packages (from aiohttp<4.0.0,>=3.8.3->langchain) (1.4.0)\n",
      "Requirement already satisfied: multidict<7.0,>=4.5 in c:\\anaconda\\lib\\site-packages (from aiohttp<4.0.0,>=3.8.3->langchain) (6.0.4)\n",
      "Requirement already satisfied: yarl<2.0,>=1.0 in c:\\anaconda\\lib\\site-packages (from aiohttp<4.0.0,>=3.8.3->langchain) (1.9.3)\n",
      "Requirement already satisfied: jsonpatch<2.0,>=1.33 in c:\\anaconda\\lib\\site-packages (from langchain-core<0.3.0,>=0.2.32->langchain) (1.33)\n",
      "Requirement already satisfied: packaging<25,>=23.2 in c:\\anaconda\\lib\\site-packages (from langchain-core<0.3.0,>=0.2.32->langchain) (24.1)\n",
      "Requirement already satisfied: typing-extensions>=4.7 in c:\\anaconda\\lib\\site-packages (from langchain-core<0.3.0,>=0.2.32->langchain) (4.12.2)\n",
      "Requirement already satisfied: orjson<4.0.0,>=3.9.14 in c:\\anaconda\\lib\\site-packages (from langsmith<0.2.0,>=0.1.17->langchain) (3.10.7)\n",
      "Requirement already satisfied: charset-normalizer<4,>=2 in c:\\anaconda\\lib\\site-packages (from requests<3,>=2->langchain) (2.0.4)\n",
      "Requirement already satisfied: idna<4,>=2.5 in c:\\anaconda\\lib\\site-packages (from requests<3,>=2->langchain) (3.4)\n",
      "Requirement already satisfied: urllib3<3,>=1.21.1 in c:\\anaconda\\lib\\site-packages (from requests<3,>=2->langchain) (1.26.16)\n",
      "Requirement already satisfied: certifi>=2017.4.17 in c:\\anaconda\\lib\\site-packages (from requests<3,>=2->langchain) (2024.7.4)\n",
      "Requirement already satisfied: greenlet!=0.4.17 in c:\\anaconda\\lib\\site-packages (from SQLAlchemy<3,>=1.4->langchain) (3.0.1)\n",
      "Requirement already satisfied: jsonpointer>=1.9 in c:\\anaconda\\lib\\site-packages (from jsonpatch<2.0,>=1.33->langchain-core<0.3.0,>=0.2.32->langchain) (2.1)\n",
      "Requirement already satisfied: langchain-google-genai in c:\\anaconda\\lib\\site-packages (1.0.9)\n",
      "Requirement already satisfied: google-generativeai<0.8.0,>=0.7.0 in c:\\anaconda\\lib\\site-packages (from langchain-google-genai) (0.7.2)\n",
      "Requirement already satisfied: langchain-core<0.3,>=0.2.32 in c:\\anaconda\\lib\\site-packages (from langchain-google-genai) (0.2.33)\n",
      "Requirement already satisfied: google-ai-generativelanguage==0.6.6 in c:\\anaconda\\lib\\site-packages (from google-generativeai<0.8.0,>=0.7.0->langchain-google-genai) (0.6.6)\n",
      "Requirement already satisfied: google-api-core in c:\\anaconda\\lib\\site-packages (from google-generativeai<0.8.0,>=0.7.0->langchain-google-genai) (2.19.1)\n",
      "Requirement already satisfied: google-api-python-client in c:\\anaconda\\lib\\site-packages (from google-generativeai<0.8.0,>=0.7.0->langchain-google-genai) (2.141.0)\n",
      "Requirement already satisfied: google-auth>=2.15.0 in c:\\anaconda\\lib\\site-packages (from google-generativeai<0.8.0,>=0.7.0->langchain-google-genai) (2.33.0)\n",
      "Requirement already satisfied: protobuf in c:\\anaconda\\lib\\site-packages (from google-generativeai<0.8.0,>=0.7.0->langchain-google-genai) (4.25.4)\n",
      "Requirement already satisfied: pydantic in c:\\anaconda\\lib\\site-packages (from google-generativeai<0.8.0,>=0.7.0->langchain-google-genai) (1.10.12)\n",
      "Requirement already satisfied: tqdm in c:\\anaconda\\lib\\site-packages (from google-generativeai<0.8.0,>=0.7.0->langchain-google-genai) (4.65.0)\n",
      "Requirement already satisfied: typing-extensions in c:\\anaconda\\lib\\site-packages (from google-generativeai<0.8.0,>=0.7.0->langchain-google-genai) (4.12.2)\n",
      "Requirement already satisfied: proto-plus<2.0.0dev,>=1.22.3 in c:\\anaconda\\lib\\site-packages (from google-ai-generativelanguage==0.6.6->google-generativeai<0.8.0,>=0.7.0->langchain-google-genai) (1.24.0)\n",
      "Requirement already satisfied: PyYAML>=5.3 in c:\\anaconda\\lib\\site-packages (from langchain-core<0.3,>=0.2.32->langchain-google-genai) (6.0.1)\n",
      "Requirement already satisfied: jsonpatch<2.0,>=1.33 in c:\\anaconda\\lib\\site-packages (from langchain-core<0.3,>=0.2.32->langchain-google-genai) (1.33)\n",
      "Requirement already satisfied: langsmith<0.2.0,>=0.1.75 in c:\\anaconda\\lib\\site-packages (from langchain-core<0.3,>=0.2.32->langchain-google-genai) (0.1.99)\n",
      "Requirement already satisfied: packaging<25,>=23.2 in c:\\anaconda\\lib\\site-packages (from langchain-core<0.3,>=0.2.32->langchain-google-genai) (24.1)\n",
      "Requirement already satisfied: tenacity!=8.4.0,<9.0.0,>=8.1.0 in c:\\anaconda\\lib\\site-packages (from langchain-core<0.3,>=0.2.32->langchain-google-genai) (8.2.2)\n",
      "Requirement already satisfied: googleapis-common-protos<2.0.dev0,>=1.56.2 in c:\\anaconda\\lib\\site-packages (from google-api-core->google-generativeai<0.8.0,>=0.7.0->langchain-google-genai) (1.63.2)\n",
      "Requirement already satisfied: requests<3.0.0.dev0,>=2.18.0 in c:\\anaconda\\lib\\site-packages (from google-api-core->google-generativeai<0.8.0,>=0.7.0->langchain-google-genai) (2.31.0)\n",
      "Requirement already satisfied: cachetools<6.0,>=2.0.0 in c:\\anaconda\\lib\\site-packages (from google-auth>=2.15.0->google-generativeai<0.8.0,>=0.7.0->langchain-google-genai) (4.2.2)\n",
      "Requirement already satisfied: pyasn1-modules>=0.2.1 in c:\\anaconda\\lib\\site-packages (from google-auth>=2.15.0->google-generativeai<0.8.0,>=0.7.0->langchain-google-genai) (0.2.8)\n",
      "Requirement already satisfied: rsa<5,>=3.1.4 in c:\\anaconda\\lib\\site-packages (from google-auth>=2.15.0->google-generativeai<0.8.0,>=0.7.0->langchain-google-genai) (4.9)\n",
      "Requirement already satisfied: jsonpointer>=1.9 in c:\\anaconda\\lib\\site-packages (from jsonpatch<2.0,>=1.33->langchain-core<0.3,>=0.2.32->langchain-google-genai) (2.1)\n",
      "Requirement already satisfied: orjson<4.0.0,>=3.9.14 in c:\\anaconda\\lib\\site-packages (from langsmith<0.2.0,>=0.1.75->langchain-core<0.3,>=0.2.32->langchain-google-genai) (3.10.7)\n",
      "Requirement already satisfied: httplib2<1.dev0,>=0.19.0 in c:\\anaconda\\lib\\site-packages (from google-api-python-client->google-generativeai<0.8.0,>=0.7.0->langchain-google-genai) (0.22.0)\n",
      "Requirement already satisfied: google-auth-httplib2<1.0.0,>=0.2.0 in c:\\anaconda\\lib\\site-packages (from google-api-python-client->google-generativeai<0.8.0,>=0.7.0->langchain-google-genai) (0.2.0)\n",
      "Requirement already satisfied: uritemplate<5,>=3.0.1 in c:\\anaconda\\lib\\site-packages (from google-api-python-client->google-generativeai<0.8.0,>=0.7.0->langchain-google-genai) (4.1.1)\n",
      "Requirement already satisfied: colorama in c:\\anaconda\\lib\\site-packages (from tqdm->google-generativeai<0.8.0,>=0.7.0->langchain-google-genai) (0.4.6)\n",
      "Requirement already satisfied: grpcio<2.0dev,>=1.33.2 in c:\\anaconda\\lib\\site-packages (from google-api-core[grpc]!=2.0.*,!=2.1.*,!=2.10.*,!=2.2.*,!=2.3.*,!=2.4.*,!=2.5.*,!=2.6.*,!=2.7.*,!=2.8.*,!=2.9.*,<3.0.0dev,>=1.34.1->google-ai-generativelanguage==0.6.6->google-generativeai<0.8.0,>=0.7.0->langchain-google-genai) (1.65.5)\n",
      "Requirement already satisfied: grpcio-status<2.0.dev0,>=1.33.2 in c:\\anaconda\\lib\\site-packages (from google-api-core[grpc]!=2.0.*,!=2.1.*,!=2.10.*,!=2.2.*,!=2.3.*,!=2.4.*,!=2.5.*,!=2.6.*,!=2.7.*,!=2.8.*,!=2.9.*,<3.0.0dev,>=1.34.1->google-ai-generativelanguage==0.6.6->google-generativeai<0.8.0,>=0.7.0->langchain-google-genai) (1.62.3)\n",
      "Requirement already satisfied: pyparsing!=3.0.0,!=3.0.1,!=3.0.2,!=3.0.3,<4,>=2.4.2 in c:\\anaconda\\lib\\site-packages (from httplib2<1.dev0,>=0.19.0->google-api-python-client->google-generativeai<0.8.0,>=0.7.0->langchain-google-genai) (3.0.9)\n",
      "Requirement already satisfied: pyasn1<0.5.0,>=0.4.6 in c:\\anaconda\\lib\\site-packages (from pyasn1-modules>=0.2.1->google-auth>=2.15.0->google-generativeai<0.8.0,>=0.7.0->langchain-google-genai) (0.4.8)\n",
      "Requirement already satisfied: charset-normalizer<4,>=2 in c:\\anaconda\\lib\\site-packages (from requests<3.0.0.dev0,>=2.18.0->google-api-core->google-generativeai<0.8.0,>=0.7.0->langchain-google-genai) (2.0.4)\n",
      "Requirement already satisfied: idna<4,>=2.5 in c:\\anaconda\\lib\\site-packages (from requests<3.0.0.dev0,>=2.18.0->google-api-core->google-generativeai<0.8.0,>=0.7.0->langchain-google-genai) (3.4)\n",
      "Requirement already satisfied: urllib3<3,>=1.21.1 in c:\\anaconda\\lib\\site-packages (from requests<3.0.0.dev0,>=2.18.0->google-api-core->google-generativeai<0.8.0,>=0.7.0->langchain-google-genai) (1.26.16)\n",
      "Requirement already satisfied: certifi>=2017.4.17 in c:\\anaconda\\lib\\site-packages (from requests<3.0.0.dev0,>=2.18.0->google-api-core->google-generativeai<0.8.0,>=0.7.0->langchain-google-genai) (2024.7.4)\n",
      "Requirement already satisfied: google-generativeai in c:\\anaconda\\lib\\site-packages (0.7.2)\n",
      "Requirement already satisfied: google-ai-generativelanguage==0.6.6 in c:\\anaconda\\lib\\site-packages (from google-generativeai) (0.6.6)\n",
      "Requirement already satisfied: google-api-core in c:\\anaconda\\lib\\site-packages (from google-generativeai) (2.19.1)\n",
      "Requirement already satisfied: google-api-python-client in c:\\anaconda\\lib\\site-packages (from google-generativeai) (2.141.0)\n",
      "Requirement already satisfied: google-auth>=2.15.0 in c:\\anaconda\\lib\\site-packages (from google-generativeai) (2.33.0)\n",
      "Requirement already satisfied: protobuf in c:\\anaconda\\lib\\site-packages (from google-generativeai) (4.25.4)\n",
      "Requirement already satisfied: pydantic in c:\\anaconda\\lib\\site-packages (from google-generativeai) (1.10.12)\n",
      "Requirement already satisfied: tqdm in c:\\anaconda\\lib\\site-packages (from google-generativeai) (4.65.0)\n",
      "Requirement already satisfied: typing-extensions in c:\\anaconda\\lib\\site-packages (from google-generativeai) (4.12.2)\n",
      "Requirement already satisfied: proto-plus<2.0.0dev,>=1.22.3 in c:\\anaconda\\lib\\site-packages (from google-ai-generativelanguage==0.6.6->google-generativeai) (1.24.0)\n",
      "Requirement already satisfied: googleapis-common-protos<2.0.dev0,>=1.56.2 in c:\\anaconda\\lib\\site-packages (from google-api-core->google-generativeai) (1.63.2)\n",
      "Requirement already satisfied: requests<3.0.0.dev0,>=2.18.0 in c:\\anaconda\\lib\\site-packages (from google-api-core->google-generativeai) (2.31.0)\n",
      "Requirement already satisfied: cachetools<6.0,>=2.0.0 in c:\\anaconda\\lib\\site-packages (from google-auth>=2.15.0->google-generativeai) (4.2.2)\n",
      "Requirement already satisfied: pyasn1-modules>=0.2.1 in c:\\anaconda\\lib\\site-packages (from google-auth>=2.15.0->google-generativeai) (0.2.8)\n",
      "Requirement already satisfied: rsa<5,>=3.1.4 in c:\\anaconda\\lib\\site-packages (from google-auth>=2.15.0->google-generativeai) (4.9)\n",
      "Requirement already satisfied: httplib2<1.dev0,>=0.19.0 in c:\\anaconda\\lib\\site-packages (from google-api-python-client->google-generativeai) (0.22.0)\n",
      "Requirement already satisfied: google-auth-httplib2<1.0.0,>=0.2.0 in c:\\anaconda\\lib\\site-packages (from google-api-python-client->google-generativeai) (0.2.0)\n",
      "Requirement already satisfied: uritemplate<5,>=3.0.1 in c:\\anaconda\\lib\\site-packages (from google-api-python-client->google-generativeai) (4.1.1)\n",
      "Requirement already satisfied: colorama in c:\\anaconda\\lib\\site-packages (from tqdm->google-generativeai) (0.4.6)\n",
      "Requirement already satisfied: grpcio<2.0dev,>=1.33.2 in c:\\anaconda\\lib\\site-packages (from google-api-core[grpc]!=2.0.*,!=2.1.*,!=2.10.*,!=2.2.*,!=2.3.*,!=2.4.*,!=2.5.*,!=2.6.*,!=2.7.*,!=2.8.*,!=2.9.*,<3.0.0dev,>=1.34.1->google-ai-generativelanguage==0.6.6->google-generativeai) (1.65.5)\n",
      "Requirement already satisfied: grpcio-status<2.0.dev0,>=1.33.2 in c:\\anaconda\\lib\\site-packages (from google-api-core[grpc]!=2.0.*,!=2.1.*,!=2.10.*,!=2.2.*,!=2.3.*,!=2.4.*,!=2.5.*,!=2.6.*,!=2.7.*,!=2.8.*,!=2.9.*,<3.0.0dev,>=1.34.1->google-ai-generativelanguage==0.6.6->google-generativeai) (1.62.3)\n",
      "Requirement already satisfied: pyparsing!=3.0.0,!=3.0.1,!=3.0.2,!=3.0.3,<4,>=2.4.2 in c:\\anaconda\\lib\\site-packages (from httplib2<1.dev0,>=0.19.0->google-api-python-client->google-generativeai) (3.0.9)\n",
      "Requirement already satisfied: pyasn1<0.5.0,>=0.4.6 in c:\\anaconda\\lib\\site-packages (from pyasn1-modules>=0.2.1->google-auth>=2.15.0->google-generativeai) (0.4.8)\n",
      "Requirement already satisfied: charset-normalizer<4,>=2 in c:\\anaconda\\lib\\site-packages (from requests<3.0.0.dev0,>=2.18.0->google-api-core->google-generativeai) (2.0.4)\n",
      "Requirement already satisfied: idna<4,>=2.5 in c:\\anaconda\\lib\\site-packages (from requests<3.0.0.dev0,>=2.18.0->google-api-core->google-generativeai) (3.4)\n",
      "Requirement already satisfied: urllib3<3,>=1.21.1 in c:\\anaconda\\lib\\site-packages (from requests<3.0.0.dev0,>=2.18.0->google-api-core->google-generativeai) (1.26.16)\n",
      "Requirement already satisfied: certifi>=2017.4.17 in c:\\anaconda\\lib\\site-packages (from requests<3.0.0.dev0,>=2.18.0->google-api-core->google-generativeai) (2024.7.4)\n",
      "Requirement already satisfied: tavily-python in c:\\anaconda\\lib\\site-packages (0.4.0)\n",
      "Requirement already satisfied: requests in c:\\anaconda\\lib\\site-packages (from tavily-python) (2.31.0)\n",
      "Requirement already satisfied: tiktoken>=0.5.1 in c:\\anaconda\\lib\\site-packages (from tavily-python) (0.7.0)\n",
      "Requirement already satisfied: httpx in c:\\anaconda\\lib\\site-packages (from tavily-python) (0.26.0)\n",
      "Requirement already satisfied: regex>=2022.1.18 in c:\\anaconda\\lib\\site-packages (from tiktoken>=0.5.1->tavily-python) (2023.10.3)\n",
      "Requirement already satisfied: charset-normalizer<4,>=2 in c:\\anaconda\\lib\\site-packages (from requests->tavily-python) (2.0.4)\n",
      "Requirement already satisfied: idna<4,>=2.5 in c:\\anaconda\\lib\\site-packages (from requests->tavily-python) (3.4)\n",
      "Requirement already satisfied: urllib3<3,>=1.21.1 in c:\\anaconda\\lib\\site-packages (from requests->tavily-python) (1.26.16)\n",
      "Requirement already satisfied: certifi>=2017.4.17 in c:\\anaconda\\lib\\site-packages (from requests->tavily-python) (2024.7.4)\n",
      "Requirement already satisfied: anyio in c:\\anaconda\\lib\\site-packages (from httpx->tavily-python) (4.2.0)\n",
      "Requirement already satisfied: httpcore==1.* in c:\\anaconda\\lib\\site-packages (from httpx->tavily-python) (1.0.2)\n",
      "Requirement already satisfied: sniffio in c:\\anaconda\\lib\\site-packages (from httpx->tavily-python) (1.3.0)\n",
      "Requirement already satisfied: h11<0.15,>=0.13 in c:\\anaconda\\lib\\site-packages (from httpcore==1.*->httpx->tavily-python) (0.14.0)\n",
      "Requirement already satisfied: langchain-community in c:\\anaconda\\lib\\site-packages (0.2.12)\n",
      "Requirement already satisfied: PyYAML>=5.3 in c:\\anaconda\\lib\\site-packages (from langchain-community) (6.0.1)\n",
      "Requirement already satisfied: SQLAlchemy<3,>=1.4 in c:\\anaconda\\lib\\site-packages (from langchain-community) (2.0.25)\n",
      "Requirement already satisfied: aiohttp<4.0.0,>=3.8.3 in c:\\anaconda\\lib\\site-packages (from langchain-community) (3.9.3)\n",
      "Requirement already satisfied: dataclasses-json<0.7,>=0.5.7 in c:\\anaconda\\lib\\site-packages (from langchain-community) (0.6.7)\n",
      "Requirement already satisfied: langchain<0.3.0,>=0.2.13 in c:\\anaconda\\lib\\site-packages (from langchain-community) (0.2.14)\n",
      "Requirement already satisfied: langchain-core<0.3.0,>=0.2.30 in c:\\anaconda\\lib\\site-packages (from langchain-community) (0.2.33)\n",
      "Requirement already satisfied: langsmith<0.2.0,>=0.1.0 in c:\\anaconda\\lib\\site-packages (from langchain-community) (0.1.99)\n",
      "Requirement already satisfied: numpy<2,>=1 in c:\\anaconda\\lib\\site-packages (from langchain-community) (1.26.4)\n",
      "Requirement already satisfied: requests<3,>=2 in c:\\anaconda\\lib\\site-packages (from langchain-community) (2.31.0)\n",
      "Requirement already satisfied: tenacity!=8.4.0,<9.0.0,>=8.1.0 in c:\\anaconda\\lib\\site-packages (from langchain-community) (8.2.2)\n",
      "Requirement already satisfied: aiosignal>=1.1.2 in c:\\anaconda\\lib\\site-packages (from aiohttp<4.0.0,>=3.8.3->langchain-community) (1.2.0)\n",
      "Requirement already satisfied: attrs>=17.3.0 in c:\\anaconda\\lib\\site-packages (from aiohttp<4.0.0,>=3.8.3->langchain-community) (23.1.0)\n",
      "Requirement already satisfied: frozenlist>=1.1.1 in c:\\anaconda\\lib\\site-packages (from aiohttp<4.0.0,>=3.8.3->langchain-community) (1.4.0)\n",
      "Requirement already satisfied: multidict<7.0,>=4.5 in c:\\anaconda\\lib\\site-packages (from aiohttp<4.0.0,>=3.8.3->langchain-community) (6.0.4)\n",
      "Requirement already satisfied: yarl<2.0,>=1.0 in c:\\anaconda\\lib\\site-packages (from aiohttp<4.0.0,>=3.8.3->langchain-community) (1.9.3)\n",
      "Requirement already satisfied: marshmallow<4.0.0,>=3.18.0 in c:\\anaconda\\lib\\site-packages (from dataclasses-json<0.7,>=0.5.7->langchain-community) (3.21.3)\n",
      "Requirement already satisfied: typing-inspect<1,>=0.4.0 in c:\\anaconda\\lib\\site-packages (from dataclasses-json<0.7,>=0.5.7->langchain-community) (0.9.0)\n",
      "Requirement already satisfied: langchain-text-splitters<0.3.0,>=0.2.0 in c:\\anaconda\\lib\\site-packages (from langchain<0.3.0,>=0.2.13->langchain-community) (0.2.2)\n",
      "Requirement already satisfied: pydantic<3,>=1 in c:\\anaconda\\lib\\site-packages (from langchain<0.3.0,>=0.2.13->langchain-community) (1.10.12)\n",
      "Requirement already satisfied: jsonpatch<2.0,>=1.33 in c:\\anaconda\\lib\\site-packages (from langchain-core<0.3.0,>=0.2.30->langchain-community) (1.33)\n",
      "Requirement already satisfied: packaging<25,>=23.2 in c:\\anaconda\\lib\\site-packages (from langchain-core<0.3.0,>=0.2.30->langchain-community) (24.1)\n",
      "Requirement already satisfied: typing-extensions>=4.7 in c:\\anaconda\\lib\\site-packages (from langchain-core<0.3.0,>=0.2.30->langchain-community) (4.12.2)\n",
      "Requirement already satisfied: orjson<4.0.0,>=3.9.14 in c:\\anaconda\\lib\\site-packages (from langsmith<0.2.0,>=0.1.0->langchain-community) (3.10.7)\n",
      "Requirement already satisfied: charset-normalizer<4,>=2 in c:\\anaconda\\lib\\site-packages (from requests<3,>=2->langchain-community) (2.0.4)\n",
      "Requirement already satisfied: idna<4,>=2.5 in c:\\anaconda\\lib\\site-packages (from requests<3,>=2->langchain-community) (3.4)\n",
      "Requirement already satisfied: urllib3<3,>=1.21.1 in c:\\anaconda\\lib\\site-packages (from requests<3,>=2->langchain-community) (1.26.16)\n",
      "Requirement already satisfied: certifi>=2017.4.17 in c:\\anaconda\\lib\\site-packages (from requests<3,>=2->langchain-community) (2024.7.4)\n",
      "Requirement already satisfied: greenlet!=0.4.17 in c:\\anaconda\\lib\\site-packages (from SQLAlchemy<3,>=1.4->langchain-community) (3.0.1)\n",
      "Requirement already satisfied: jsonpointer>=1.9 in c:\\anaconda\\lib\\site-packages (from jsonpatch<2.0,>=1.33->langchain-core<0.3.0,>=0.2.30->langchain-community) (2.1)\n",
      "Requirement already satisfied: mypy-extensions>=0.3.0 in c:\\anaconda\\lib\\site-packages (from typing-inspect<1,>=0.4.0->dataclasses-json<0.7,>=0.5.7->langchain-community) (1.0.0)\n"
     ]
    }
   ],
   "source": [
    "!pip install langchain\n",
    "!pip install langchain-google-genai\n",
    "!pip install google-generativeai\n",
    "!pip install tavily-python\n",
    "!pip install langchain-community"
   ]
  },
  {
   "cell_type": "code",
   "execution_count": 5,
   "id": "8e70ddd8-5e9f-4150-b09c-ada9b1ef3c28",
   "metadata": {},
   "outputs": [],
   "source": [
    "import os \n",
    "import getpass"
   ]
  },
  {
   "cell_type": "code",
   "execution_count": 6,
   "id": "2f7b7be3-39d3-4be6-968e-eb37ccb37403",
   "metadata": {
    "scrolled": true
   },
   "outputs": [
    {
     "name": "stdin",
     "output_type": "stream",
     "text": [
      "Google API Key ········\n",
      "Tavily API Key ········\n"
     ]
    }
   ],
   "source": [
    "os.environ[\"GOOGLE_API_KEY\"] = getpass.getpass(\"Google API Key\")\n",
    "os.environ[\"TAVILY_API_KEY\"] = getpass.getpass(\"Tavily API Key\")"
   ]
  },
  {
   "cell_type": "markdown",
   "id": "a7e65d79-a2d1-4a56-802b-9bfa2e4b9a7f",
   "metadata": {},
   "source": [
    "Optionally we can set API key for Langsmith tracing which will give best in class observability "
   ]
  },
  {
   "cell_type": "code",
   "execution_count": 10,
   "id": "91e7a328-7e62-4dfb-9947-e15f84fb1a03",
   "metadata": {},
   "outputs": [
    {
     "name": "stdin",
     "output_type": "stream",
     "text": [
      "Langsmith API Key ········\n"
     ]
    }
   ],
   "source": [
    "os.environ[\"LANGCHAIN_TRACING_V2\"] = \"true\"\n",
    "os.environ[\"LANGCHAIN_API_KEY\"] = getpass.getpass(\"Langsmith API Key\")"
   ]
  },
  {
   "cell_type": "markdown",
   "id": "e89597da-8346-4f4a-a7b9-5b2a9806f14f",
   "metadata": {},
   "source": [
    "## Create agents\n",
    "\n",
    "The following helper functions will help create agents . These agents with then be nodes in the graph\n"
   ]
  },
  {
   "cell_type": "code",
   "execution_count": 18,
   "id": "68d19bd7-576e-47b0-bded-01cc581cb580",
   "metadata": {},
   "outputs": [
    {
     "name": "stdout",
     "output_type": "stream",
     "text": [
      "Requirement already satisfied: langchain in c:\\anaconda\\lib\\site-packages (0.2.15)\n",
      "Requirement already satisfied: PyYAML>=5.3 in c:\\anaconda\\lib\\site-packages (from langchain) (6.0.1)\n",
      "Requirement already satisfied: SQLAlchemy<3,>=1.4 in c:\\anaconda\\lib\\site-packages (from langchain) (2.0.25)\n",
      "Requirement already satisfied: aiohttp<4.0.0,>=3.8.3 in c:\\anaconda\\lib\\site-packages (from langchain) (3.9.3)\n",
      "Requirement already satisfied: langchain-core<0.3.0,>=0.2.35 in c:\\anaconda\\lib\\site-packages (from langchain) (0.2.37)\n",
      "Requirement already satisfied: langchain-text-splitters<0.3.0,>=0.2.0 in c:\\anaconda\\lib\\site-packages (from langchain) (0.2.2)\n",
      "Requirement already satisfied: langsmith<0.2.0,>=0.1.17 in c:\\anaconda\\lib\\site-packages (from langchain) (0.1.99)\n",
      "Requirement already satisfied: numpy<2,>=1 in c:\\anaconda\\lib\\site-packages (from langchain) (1.26.4)\n",
      "Requirement already satisfied: pydantic<3,>=1 in c:\\anaconda\\lib\\site-packages (from langchain) (1.10.12)\n",
      "Requirement already satisfied: requests<3,>=2 in c:\\anaconda\\lib\\site-packages (from langchain) (2.31.0)\n",
      "Requirement already satisfied: tenacity!=8.4.0,<9.0.0,>=8.1.0 in c:\\anaconda\\lib\\site-packages (from langchain) (8.2.2)\n",
      "Requirement already satisfied: aiosignal>=1.1.2 in c:\\anaconda\\lib\\site-packages (from aiohttp<4.0.0,>=3.8.3->langchain) (1.2.0)\n",
      "Requirement already satisfied: attrs>=17.3.0 in c:\\anaconda\\lib\\site-packages (from aiohttp<4.0.0,>=3.8.3->langchain) (23.1.0)\n",
      "Requirement already satisfied: frozenlist>=1.1.1 in c:\\anaconda\\lib\\site-packages (from aiohttp<4.0.0,>=3.8.3->langchain) (1.4.0)\n",
      "Requirement already satisfied: multidict<7.0,>=4.5 in c:\\anaconda\\lib\\site-packages (from aiohttp<4.0.0,>=3.8.3->langchain) (6.0.4)\n",
      "Requirement already satisfied: yarl<2.0,>=1.0 in c:\\anaconda\\lib\\site-packages (from aiohttp<4.0.0,>=3.8.3->langchain) (1.9.3)\n",
      "Requirement already satisfied: jsonpatch<2.0,>=1.33 in c:\\anaconda\\lib\\site-packages (from langchain-core<0.3.0,>=0.2.35->langchain) (1.33)\n",
      "Requirement already satisfied: packaging<25,>=23.2 in c:\\anaconda\\lib\\site-packages (from langchain-core<0.3.0,>=0.2.35->langchain) (24.1)\n",
      "Requirement already satisfied: typing-extensions>=4.7 in c:\\anaconda\\lib\\site-packages (from langchain-core<0.3.0,>=0.2.35->langchain) (4.12.2)\n",
      "Requirement already satisfied: orjson<4.0.0,>=3.9.14 in c:\\anaconda\\lib\\site-packages (from langsmith<0.2.0,>=0.1.17->langchain) (3.10.7)\n",
      "Requirement already satisfied: charset-normalizer<4,>=2 in c:\\anaconda\\lib\\site-packages (from requests<3,>=2->langchain) (2.0.4)\n",
      "Requirement already satisfied: idna<4,>=2.5 in c:\\anaconda\\lib\\site-packages (from requests<3,>=2->langchain) (3.4)\n",
      "Requirement already satisfied: urllib3<3,>=1.21.1 in c:\\anaconda\\lib\\site-packages (from requests<3,>=2->langchain) (1.26.16)\n",
      "Requirement already satisfied: certifi>=2017.4.17 in c:\\anaconda\\lib\\site-packages (from requests<3,>=2->langchain) (2024.7.4)\n",
      "Requirement already satisfied: greenlet!=0.4.17 in c:\\anaconda\\lib\\site-packages (from SQLAlchemy<3,>=1.4->langchain) (3.0.1)\n",
      "Requirement already satisfied: jsonpointer>=1.9 in c:\\anaconda\\lib\\site-packages (from jsonpatch<2.0,>=1.33->langchain-core<0.3.0,>=0.2.35->langchain) (2.1)\n",
      "Requirement already satisfied: langchain-community in c:\\anaconda\\lib\\site-packages (0.2.15)\n",
      "Requirement already satisfied: PyYAML>=5.3 in c:\\anaconda\\lib\\site-packages (from langchain-community) (6.0.1)\n",
      "Requirement already satisfied: SQLAlchemy<3,>=1.4 in c:\\anaconda\\lib\\site-packages (from langchain-community) (2.0.25)\n",
      "Requirement already satisfied: aiohttp<4.0.0,>=3.8.3 in c:\\anaconda\\lib\\site-packages (from langchain-community) (3.9.3)\n",
      "Requirement already satisfied: dataclasses-json<0.7,>=0.5.7 in c:\\anaconda\\lib\\site-packages (from langchain-community) (0.6.7)\n",
      "Requirement already satisfied: langchain<0.3.0,>=0.2.15 in c:\\anaconda\\lib\\site-packages (from langchain-community) (0.2.15)\n",
      "Requirement already satisfied: langchain-core<0.3.0,>=0.2.37 in c:\\anaconda\\lib\\site-packages (from langchain-community) (0.2.37)\n",
      "Requirement already satisfied: langsmith<0.2.0,>=0.1.0 in c:\\anaconda\\lib\\site-packages (from langchain-community) (0.1.99)\n",
      "Requirement already satisfied: numpy<2,>=1 in c:\\anaconda\\lib\\site-packages (from langchain-community) (1.26.4)\n",
      "Requirement already satisfied: requests<3,>=2 in c:\\anaconda\\lib\\site-packages (from langchain-community) (2.31.0)\n",
      "Requirement already satisfied: tenacity!=8.4.0,<9.0.0,>=8.1.0 in c:\\anaconda\\lib\\site-packages (from langchain-community) (8.2.2)\n",
      "Requirement already satisfied: aiosignal>=1.1.2 in c:\\anaconda\\lib\\site-packages (from aiohttp<4.0.0,>=3.8.3->langchain-community) (1.2.0)\n",
      "Requirement already satisfied: attrs>=17.3.0 in c:\\anaconda\\lib\\site-packages (from aiohttp<4.0.0,>=3.8.3->langchain-community) (23.1.0)\n",
      "Requirement already satisfied: frozenlist>=1.1.1 in c:\\anaconda\\lib\\site-packages (from aiohttp<4.0.0,>=3.8.3->langchain-community) (1.4.0)\n",
      "Requirement already satisfied: multidict<7.0,>=4.5 in c:\\anaconda\\lib\\site-packages (from aiohttp<4.0.0,>=3.8.3->langchain-community) (6.0.4)\n",
      "Requirement already satisfied: yarl<2.0,>=1.0 in c:\\anaconda\\lib\\site-packages (from aiohttp<4.0.0,>=3.8.3->langchain-community) (1.9.3)\n",
      "Requirement already satisfied: marshmallow<4.0.0,>=3.18.0 in c:\\anaconda\\lib\\site-packages (from dataclasses-json<0.7,>=0.5.7->langchain-community) (3.21.3)\n",
      "Requirement already satisfied: typing-inspect<1,>=0.4.0 in c:\\anaconda\\lib\\site-packages (from dataclasses-json<0.7,>=0.5.7->langchain-community) (0.9.0)\n",
      "Requirement already satisfied: langchain-text-splitters<0.3.0,>=0.2.0 in c:\\anaconda\\lib\\site-packages (from langchain<0.3.0,>=0.2.15->langchain-community) (0.2.2)\n",
      "Requirement already satisfied: pydantic<3,>=1 in c:\\anaconda\\lib\\site-packages (from langchain<0.3.0,>=0.2.15->langchain-community) (1.10.12)\n",
      "Requirement already satisfied: jsonpatch<2.0,>=1.33 in c:\\anaconda\\lib\\site-packages (from langchain-core<0.3.0,>=0.2.37->langchain-community) (1.33)\n",
      "Requirement already satisfied: packaging<25,>=23.2 in c:\\anaconda\\lib\\site-packages (from langchain-core<0.3.0,>=0.2.37->langchain-community) (24.1)\n",
      "Requirement already satisfied: typing-extensions>=4.7 in c:\\anaconda\\lib\\site-packages (from langchain-core<0.3.0,>=0.2.37->langchain-community) (4.12.2)\n",
      "Requirement already satisfied: orjson<4.0.0,>=3.9.14 in c:\\anaconda\\lib\\site-packages (from langsmith<0.2.0,>=0.1.0->langchain-community) (3.10.7)\n",
      "Requirement already satisfied: charset-normalizer<4,>=2 in c:\\anaconda\\lib\\site-packages (from requests<3,>=2->langchain-community) (2.0.4)\n",
      "Requirement already satisfied: idna<4,>=2.5 in c:\\anaconda\\lib\\site-packages (from requests<3,>=2->langchain-community) (3.4)\n",
      "Requirement already satisfied: urllib3<3,>=1.21.1 in c:\\anaconda\\lib\\site-packages (from requests<3,>=2->langchain-community) (1.26.16)\n",
      "Requirement already satisfied: certifi>=2017.4.17 in c:\\anaconda\\lib\\site-packages (from requests<3,>=2->langchain-community) (2024.7.4)\n",
      "Requirement already satisfied: greenlet!=0.4.17 in c:\\anaconda\\lib\\site-packages (from SQLAlchemy<3,>=1.4->langchain-community) (3.0.1)\n",
      "Requirement already satisfied: jsonpointer>=1.9 in c:\\anaconda\\lib\\site-packages (from jsonpatch<2.0,>=1.33->langchain-core<0.3.0,>=0.2.37->langchain-community) (2.1)\n",
      "Requirement already satisfied: mypy-extensions>=0.3.0 in c:\\anaconda\\lib\\site-packages (from typing-inspect<1,>=0.4.0->dataclasses-json<0.7,>=0.5.7->langchain-community) (1.0.0)\n"
     ]
    },
    {
     "name": "stderr",
     "output_type": "stream",
     "text": [
      "ERROR: Could not find a version that satisfies the requirement langchain-community-tools (from versions: none)\n",
      "ERROR: No matching distribution found for langchain-community-tools\n"
     ]
    }
   ],
   "source": [
    "!pip install -U langchain\n",
    "!pip install -U langchain-community\n",
    "!pip install -U langchain-community-tools\n"
   ]
  },
  {
   "cell_type": "code",
   "execution_count": 19,
   "id": "c92545b5-7107-4ce7-aafb-26091c83245c",
   "metadata": {},
   "outputs": [],
   "source": [
    "from langchain import hub\n",
    "from langchain.agents import create_openai_functions_agent\n",
    "from langchain_google_genai import ChatGoogleGenerativeAI\n",
    "from langchain_community.tools.tavily_search import TavilySearchResults\n",
    "\n"
   ]
  },
  {
   "cell_type": "code",
   "execution_count": 20,
   "id": "aa38c573-c017-4b92-8f23-b14bd5baf835",
   "metadata": {
    "scrolled": true
   },
   "outputs": [
    {
     "name": "stdout",
     "output_type": "stream",
     "text": [
      "Note: you may need to restart the kernel to use updated packages.\n",
      "Requirement already satisfied: openai in c:\\anaconda\\lib\\site-packages (1.41.0)\n",
      "Requirement already satisfied: anyio<5,>=3.5.0 in c:\\anaconda\\lib\\site-packages (from openai) (4.2.0)\n",
      "Requirement already satisfied: distro<2,>=1.7.0 in c:\\anaconda\\lib\\site-packages (from openai) (1.8.0)\n",
      "Requirement already satisfied: httpx<1,>=0.23.0 in c:\\anaconda\\lib\\site-packages (from openai) (0.26.0)\n",
      "Requirement already satisfied: jiter<1,>=0.4.0 in c:\\anaconda\\lib\\site-packages (from openai) (0.5.0)\n",
      "Requirement already satisfied: pydantic<3,>=1.9.0 in c:\\anaconda\\lib\\site-packages (from openai) (1.10.12)\n",
      "Requirement already satisfied: sniffio in c:\\anaconda\\lib\\site-packages (from openai) (1.3.0)\n",
      "Requirement already satisfied: tqdm>4 in c:\\anaconda\\lib\\site-packages (from openai) (4.65.0)\n",
      "Requirement already satisfied: typing-extensions<5,>=4.11 in c:\\anaconda\\lib\\site-packages (from openai) (4.12.2)\n",
      "Requirement already satisfied: idna>=2.8 in c:\\anaconda\\lib\\site-packages (from anyio<5,>=3.5.0->openai) (3.4)\n",
      "Requirement already satisfied: certifi in c:\\anaconda\\lib\\site-packages (from httpx<1,>=0.23.0->openai) (2024.7.4)\n",
      "Requirement already satisfied: httpcore==1.* in c:\\anaconda\\lib\\site-packages (from httpx<1,>=0.23.0->openai) (1.0.2)\n",
      "Requirement already satisfied: h11<0.15,>=0.13 in c:\\anaconda\\lib\\site-packages (from httpcore==1.*->httpx<1,>=0.23.0->openai) (0.14.0)\n",
      "Requirement already satisfied: colorama in c:\\anaconda\\lib\\site-packages (from tqdm>4->openai) (0.4.6)\n",
      "Requirement already satisfied: requests in c:\\anaconda\\lib\\site-packages (2.31.0)\n",
      "Requirement already satisfied: charset-normalizer<4,>=2 in c:\\anaconda\\lib\\site-packages (from requests) (2.0.4)\n",
      "Requirement already satisfied: idna<4,>=2.5 in c:\\anaconda\\lib\\site-packages (from requests) (3.4)\n",
      "Requirement already satisfied: urllib3<3,>=1.21.1 in c:\\anaconda\\lib\\site-packages (from requests) (1.26.16)\n",
      "Requirement already satisfied: certifi>=2017.4.17 in c:\\anaconda\\lib\\site-packages (from requests) (2024.7.4)\n"
     ]
    }
   ],
   "source": [
    "%pip install -qU langchain-groq\n",
    "\n",
    "# Other necessary libraries\n",
    "\n",
    "# Required for tools formatted to OpenAI's function calling structure\n",
    "!pip install openai  \n",
    "!pip install requests  "
   ]
  },
  {
   "cell_type": "code",
   "execution_count": 21,
   "id": "0b512619-847e-40b0-a46b-fb6b6ca6076a",
   "metadata": {},
   "outputs": [
    {
     "name": "stdin",
     "output_type": "stream",
     "text": [
      "Enter your Groq API key:  ········\n"
     ]
    }
   ],
   "source": [
    "import getpass\n",
    "import os\n",
    "\n",
    "os.environ[\"GROQ_API_KEY\"] = getpass.getpass(\"Enter your Groq API key: \")"
   ]
  },
  {
   "cell_type": "code",
   "execution_count": 22,
   "id": "c76cae65-184d-452a-9aee-502aeb17c551",
   "metadata": {},
   "outputs": [
    {
     "name": "stderr",
     "output_type": "stream",
     "text": [
      "ERROR: Could not find a version that satisfies the requirement groq-api (from versions: none)\n",
      "ERROR: No matching distribution found for groq-api\n"
     ]
    }
   ],
   "source": [
    "!pip install groq-api"
   ]
  },
  {
   "cell_type": "code",
   "execution_count": 32,
   "id": "45561782-9bbc-4de5-a802-135c01ebd20e",
   "metadata": {},
   "outputs": [],
   "source": [
    "from langchain_community.tools.tavily_search import TavilySearchResults\n",
    "import json\n",
    "from langchain_core.messages import (\n",
    "    AIMessage,\n",
    "    BaseMessage,\n",
    "    ChatMessage,\n",
    "    FunctionMessage,\n",
    "    HumanMessage,\n",
    ")\n",
    "\n",
    "from langgraph.graph import END , StateGraph\n",
    "from langgraph.prebuilt.tool_executor import ToolExecutor, ToolInvocation\n",
    "\n",
    "def create_agent(llm, tools ,system_message: str):\n",
    "    \"\"\"Create an agent.\"\"\"\n",
    "    functions = [format_tool_to_openai_function(t) for t in tools]\n",
    "    prompt = ChatPromptTemplate.from_messages(\n",
    "        [\n",
    "            (\n",
    "                \"system\",\n",
    "                \"You are a helpful AI assistant, collaborating with other assistants.\"\n",
    "                \"If you are unable to fully answer, that is OK, another assistant with different tools\"\n",
    "                \"will help where you left off. Execute what you can to make progress.\"\n",
    "                \"If you or any of the other assistants have the final answer or deliverable,\"\n",
    "                \"prefix your response with FINALANSWER so that the team knows to stop\"\n",
    "                \"You have access to the following tools: {tool_names}.\\n{system_message}\",\n",
    "            ),\n",
    "            MessagesPlaceholder(variable_name =\"messages\"),\n",
    "        ]\n",
    "    )\n",
    "    prompt = prompt.partial(system_message = system_message)\n",
    "    prompt = prompt.partial(tool_names =\", \".join([tool.name for tool in tools]))\n",
    "    return prompt | llm.bind_functions(functions)"
   ]
  },
  {
   "cell_type": "markdown",
   "id": "de1766cc-25da-4d90-8c5a-0969b0111e97",
   "metadata": {},
   "source": [
    "## Define tools \n",
    "\n",
    "We will also define some tools that our agents will define in the future "
   ]
  },
  {
   "cell_type": "code",
   "execution_count": 36,
   "id": "6ba889c0-15f1-47b8-83a6-329cd35d54d7",
   "metadata": {
    "scrolled": true
   },
   "outputs": [
    {
     "name": "stdout",
     "output_type": "stream",
     "text": [
      "Collecting langchain-experimental\n",
      "  Downloading langchain_experimental-0.0.64-py3-none-any.whl.metadata (1.7 kB)\n",
      "Requirement already satisfied: langchain-community<0.3.0,>=0.2.10 in c:\\anaconda\\lib\\site-packages (from langchain-experimental) (0.2.15)\n",
      "Requirement already satisfied: langchain-core<0.3.0,>=0.2.27 in c:\\anaconda\\lib\\site-packages (from langchain-experimental) (0.2.37)\n",
      "Requirement already satisfied: PyYAML>=5.3 in c:\\anaconda\\lib\\site-packages (from langchain-community<0.3.0,>=0.2.10->langchain-experimental) (6.0.1)\n",
      "Requirement already satisfied: SQLAlchemy<3,>=1.4 in c:\\anaconda\\lib\\site-packages (from langchain-community<0.3.0,>=0.2.10->langchain-experimental) (2.0.25)\n",
      "Requirement already satisfied: aiohttp<4.0.0,>=3.8.3 in c:\\anaconda\\lib\\site-packages (from langchain-community<0.3.0,>=0.2.10->langchain-experimental) (3.9.3)\n",
      "Requirement already satisfied: dataclasses-json<0.7,>=0.5.7 in c:\\anaconda\\lib\\site-packages (from langchain-community<0.3.0,>=0.2.10->langchain-experimental) (0.6.7)\n",
      "Requirement already satisfied: langchain<0.3.0,>=0.2.15 in c:\\anaconda\\lib\\site-packages (from langchain-community<0.3.0,>=0.2.10->langchain-experimental) (0.2.15)\n",
      "Requirement already satisfied: langsmith<0.2.0,>=0.1.0 in c:\\anaconda\\lib\\site-packages (from langchain-community<0.3.0,>=0.2.10->langchain-experimental) (0.1.99)\n",
      "Requirement already satisfied: numpy<2,>=1 in c:\\anaconda\\lib\\site-packages (from langchain-community<0.3.0,>=0.2.10->langchain-experimental) (1.26.4)\n",
      "Requirement already satisfied: requests<3,>=2 in c:\\anaconda\\lib\\site-packages (from langchain-community<0.3.0,>=0.2.10->langchain-experimental) (2.31.0)\n",
      "Requirement already satisfied: tenacity!=8.4.0,<9.0.0,>=8.1.0 in c:\\anaconda\\lib\\site-packages (from langchain-community<0.3.0,>=0.2.10->langchain-experimental) (8.2.2)\n",
      "Requirement already satisfied: jsonpatch<2.0,>=1.33 in c:\\anaconda\\lib\\site-packages (from langchain-core<0.3.0,>=0.2.27->langchain-experimental) (1.33)\n",
      "Requirement already satisfied: packaging<25,>=23.2 in c:\\anaconda\\lib\\site-packages (from langchain-core<0.3.0,>=0.2.27->langchain-experimental) (24.1)\n",
      "Requirement already satisfied: pydantic<3,>=1 in c:\\anaconda\\lib\\site-packages (from langchain-core<0.3.0,>=0.2.27->langchain-experimental) (1.10.12)\n",
      "Requirement already satisfied: typing-extensions>=4.7 in c:\\anaconda\\lib\\site-packages (from langchain-core<0.3.0,>=0.2.27->langchain-experimental) (4.12.2)\n",
      "Requirement already satisfied: aiosignal>=1.1.2 in c:\\anaconda\\lib\\site-packages (from aiohttp<4.0.0,>=3.8.3->langchain-community<0.3.0,>=0.2.10->langchain-experimental) (1.2.0)\n",
      "Requirement already satisfied: attrs>=17.3.0 in c:\\anaconda\\lib\\site-packages (from aiohttp<4.0.0,>=3.8.3->langchain-community<0.3.0,>=0.2.10->langchain-experimental) (23.1.0)\n",
      "Requirement already satisfied: frozenlist>=1.1.1 in c:\\anaconda\\lib\\site-packages (from aiohttp<4.0.0,>=3.8.3->langchain-community<0.3.0,>=0.2.10->langchain-experimental) (1.4.0)\n",
      "Requirement already satisfied: multidict<7.0,>=4.5 in c:\\anaconda\\lib\\site-packages (from aiohttp<4.0.0,>=3.8.3->langchain-community<0.3.0,>=0.2.10->langchain-experimental) (6.0.4)\n",
      "Requirement already satisfied: yarl<2.0,>=1.0 in c:\\anaconda\\lib\\site-packages (from aiohttp<4.0.0,>=3.8.3->langchain-community<0.3.0,>=0.2.10->langchain-experimental) (1.9.3)\n",
      "Requirement already satisfied: marshmallow<4.0.0,>=3.18.0 in c:\\anaconda\\lib\\site-packages (from dataclasses-json<0.7,>=0.5.7->langchain-community<0.3.0,>=0.2.10->langchain-experimental) (3.21.3)\n",
      "Requirement already satisfied: typing-inspect<1,>=0.4.0 in c:\\anaconda\\lib\\site-packages (from dataclasses-json<0.7,>=0.5.7->langchain-community<0.3.0,>=0.2.10->langchain-experimental) (0.9.0)\n",
      "Requirement already satisfied: jsonpointer>=1.9 in c:\\anaconda\\lib\\site-packages (from jsonpatch<2.0,>=1.33->langchain-core<0.3.0,>=0.2.27->langchain-experimental) (2.1)\n",
      "Requirement already satisfied: langchain-text-splitters<0.3.0,>=0.2.0 in c:\\anaconda\\lib\\site-packages (from langchain<0.3.0,>=0.2.15->langchain-community<0.3.0,>=0.2.10->langchain-experimental) (0.2.2)\n",
      "Requirement already satisfied: orjson<4.0.0,>=3.9.14 in c:\\anaconda\\lib\\site-packages (from langsmith<0.2.0,>=0.1.0->langchain-community<0.3.0,>=0.2.10->langchain-experimental) (3.10.7)\n",
      "Requirement already satisfied: charset-normalizer<4,>=2 in c:\\anaconda\\lib\\site-packages (from requests<3,>=2->langchain-community<0.3.0,>=0.2.10->langchain-experimental) (2.0.4)\n",
      "Requirement already satisfied: idna<4,>=2.5 in c:\\anaconda\\lib\\site-packages (from requests<3,>=2->langchain-community<0.3.0,>=0.2.10->langchain-experimental) (3.4)\n",
      "Requirement already satisfied: urllib3<3,>=1.21.1 in c:\\anaconda\\lib\\site-packages (from requests<3,>=2->langchain-community<0.3.0,>=0.2.10->langchain-experimental) (1.26.16)\n",
      "Requirement already satisfied: certifi>=2017.4.17 in c:\\anaconda\\lib\\site-packages (from requests<3,>=2->langchain-community<0.3.0,>=0.2.10->langchain-experimental) (2024.7.4)\n",
      "Requirement already satisfied: greenlet!=0.4.17 in c:\\anaconda\\lib\\site-packages (from SQLAlchemy<3,>=1.4->langchain-community<0.3.0,>=0.2.10->langchain-experimental) (3.0.1)\n",
      "Requirement already satisfied: mypy-extensions>=0.3.0 in c:\\anaconda\\lib\\site-packages (from typing-inspect<1,>=0.4.0->dataclasses-json<0.7,>=0.5.7->langchain-community<0.3.0,>=0.2.10->langchain-experimental) (1.0.0)\n",
      "Downloading langchain_experimental-0.0.64-py3-none-any.whl (204 kB)\n",
      "   ---------------------------------------- 0.0/204.3 kB ? eta -:--:--\n",
      "   ---------------------------------------- 0.0/204.3 kB ? eta -:--:--\n",
      "   -- ------------------------------------- 10.2/204.3 kB ? eta -:--:--\n",
      "   -- ------------------------------------- 10.2/204.3 kB ? eta -:--:--\n",
      "   -- ------------------------------------- 10.2/204.3 kB ? eta -:--:--\n",
      "   ----- --------------------------------- 30.7/204.3 kB 119.1 kB/s eta 0:00:02\n",
      "   ------- ------------------------------- 41.0/204.3 kB 131.3 kB/s eta 0:00:02\n",
      "   ----------- --------------------------- 61.4/204.3 kB 193.2 kB/s eta 0:00:01\n",
      "   ----------------- --------------------- 92.2/204.3 kB 262.6 kB/s eta 0:00:01\n",
      "   ---------------------------- --------- 153.6/204.3 kB 399.3 kB/s eta 0:00:01\n",
      "   -------------------------------------- 204.3/204.3 kB 477.9 kB/s eta 0:00:00\n",
      "Installing collected packages: langchain-experimental\n",
      "Successfully installed langchain-experimental-0.0.64\n"
     ]
    }
   ],
   "source": [
    "!pip install langchain-experimental"
   ]
  },
  {
   "cell_type": "code",
   "execution_count": 40,
   "id": "95593161-d1db-45c2-82c8-f47d3ed19071",
   "metadata": {},
   "outputs": [],
   "source": [
    "from langchain_core.tools import tool \n",
    "from typing import Annotated \n",
    "from langchain_experimental.utilities import PythonREPL\n",
    "\n",
    "tavily_tool = TavilySearchResults(max_results =5)\n",
    "repl = PythonREPL ()\n",
    "\n",
    "@tool \n",
    "def python_repl(code: Annotated[str, \"The python code to execute to generate your chart.\"]):\n",
    "    \"\"\"Use this to execute python code. If you want to see the output of a value,\n",
    "    you should print it out with 'print(...)'. This is visible to the user.\"\"\"\n",
    "    try:\n",
    "        result = repl.run(code)\n",
    "    except BaseExecution as e:\n",
    "        return f\"Failed to execute. Error: {repl(e)}\"\n",
    "    return f\"Successfully executed:\\n'''python \\n{code}\\n'''\\nStdout: {result}\""
   ]
  },
  {
   "cell_type": "markdown",
   "id": "0961d849-effd-4631-9e3f-3bceaa6e75ec",
   "metadata": {},
   "source": [
    "## Define the agent state\n",
    "\n",
    "The main type of graph in langgraph is the StatefulGraph. For this example, the state we will just be a list of messages. We want each node to just add messages to that list. Therefore , we shall use a TypedDict with one key (messages) and annotate it so that the messages attribute is always added to"
   ]
  },
  {
   "cell_type": "code",
   "execution_count": 42,
   "id": "932fed0a-56e7-43df-98fd-303c66124ff9",
   "metadata": {},
   "outputs": [],
   "source": [
    "from typing import TypedDict, Annotated, Sequence, Union , List, Tuple\n",
    "import operator \n",
    "from langchain.agents import create_openai_functions_agent\n",
    "from langchain.tools.render import format_tool_to_openai_function\n",
    "from langchain_core.prompts import ChatPromptTemplate, MessagesPlaceholder\n",
    "from typing_extensions import TypedDict\n",
    "\n",
    "# This defines the object that is passed from each node\n",
    "class AgentState(TypedDict): \n",
    "    messages: Annotated[Sequence[BaseMessage], operator.add]\n",
    "    sender:str"
   ]
  },
  {
   "cell_type": "markdown",
   "id": "1c95021e-4d63-423d-beef-15a66b0bbc0b",
   "metadata": {},
   "source": [
    "## Define the Agent nodes \n",
    "\n",
    "We need to define the nodes for the agents"
   ]
  },
  {
   "cell_type": "code",
   "execution_count": 45,
   "id": "f64ad978-99f6-4330-9419-228b9c933c43",
   "metadata": {},
   "outputs": [],
   "source": [
    "from langchain.tools.render import format_tool_to_openai_function\n",
    "from langchain_groq import ChatGroq\n",
    "\n",
    "llm = ChatGroq(\n",
    "    model=\"mixtral-8x7b-32768\",\n",
    "    temperature=0,\n",
    "    max_tokens=None,\n",
    "    timeout=None,\n",
    "    max_retries=2,\n",
    "    streaming = True\n",
    "    # other params...\n",
    ")"
   ]
  },
  {
   "cell_type": "code",
   "execution_count": 103,
   "id": "e1c4539e-1ab5-4e7f-9935-762c85906b56",
   "metadata": {},
   "outputs": [],
   "source": [
    "import functools \n",
    "\n",
    "# Helper function to create a node for a given agent \n",
    "def agent_node (state, agent, name):\n",
    "    result = agent.invoke(state)\n",
    "    # we convert the agent output into a format that is usitable to append to the global state\n",
    "    if isinstance(result, FunctionMessage):\n",
    "        pass\n",
    "    else:\n",
    "        result = HumanMessage (**result.dict(exclude ={\"type\", \"name\"}), name=name)\n",
    "    return {\n",
    "            \"messages\" : [result],\n",
    "            #since we have a  strict workflow\n",
    "            # track the sender so that we know who to pass to next\n",
    "            \"sender\": name,\n",
    "        }\n",
    "#Research agent and node \n",
    "research_agent =create_agent(\n",
    "    llm,\n",
    "    [tavily_tool],\n",
    "    system_message =\"You should provide accurate data for the chart generator to use.\",     \n",
    ")\n",
    "research_node = functools.partial(agent_node, agent=research_agent, name=\"Researcher\")\n",
    "\n",
    "\n",
    "#Chart generator\n",
    "chart_agent =create_agent(\n",
    "    llm,\n",
    "    [python_repl],\n",
    "    system_message =\"Any charts you display will be visible to the user.\",     \n",
    ")\n",
    "chart_node = functools.partial(agent_node, agent=chart_agent, name=\"Chart Generator\")\n",
    "\n"
   ]
  },
  {
   "cell_type": "markdown",
   "id": "5c95874e-8aac-4a34-90f4-0c54d7a73e75",
   "metadata": {},
   "source": [
    "## Define the tool Node\n",
    "\n",
    "Define a node to run the tools"
   ]
  },
  {
   "cell_type": "code",
   "execution_count": 105,
   "id": "246eaed7-5237-4f65-a02d-5e9ae32dd5ee",
   "metadata": {},
   "outputs": [
    {
     "name": "stderr",
     "output_type": "stream",
     "text": [
      "C:\\Users\\VISIONARY\\AppData\\Local\\Temp\\ipykernel_12432\\1955409410.py:7: LangGraphDeprecationWarning: ToolExecutor is deprecated as of version 0.2.0 and will be removed in 0.3.0. Use langgraph.prebuilt.ToolNode instead.\n",
      "  tool_executor = ToolExecutor(tools)\n"
     ]
    }
   ],
   "source": [
    "from langgraph.prebuilt import ToolInvocation\n",
    "import json\n",
    "from langchain_core.messages import FunctionMessage\n",
    "\n",
    "\n",
    "tools = [tavily_tool, python_repl]\n",
    "tool_executor = ToolExecutor(tools)\n",
    "\n",
    "#Define the function to execute tools\n",
    "def tool_node(state):\n",
    "\n",
    "    \"\"\"This runs tools in the graph \n",
    "    It takes in an agent action and calls that tool and returns the result\"\"\"\n",
    "    messages = state['messages']\n",
    "    # Based on the continue condition\n",
    "    # we know the last message involves a function call\n",
    "    last_message = messages[-1]\n",
    "    #We construct a ToolInvocation from the function_call \n",
    "\n",
    "    tool_input =json.loads(\n",
    "        last_message.additional_kwargs[\"function_call\"][\"arguments\"]\n",
    "    )\n",
    "\n",
    "    #we can pass single arg inputs by value\n",
    "    if len(tool_input) ==1 and \"__arg1\" in tool_input:\n",
    "        tool_input = next(iter(tool_input.values()))\n",
    "    tool_name = last_message.additional_kwargs[\"function_call\"][\"name\"]\n",
    "    action = ToolInvocation(\n",
    "        tool = tool_name,\n",
    "        tool_input = tool_input,\n",
    "    )\n",
    "    #we call the tool_executor and get back a response\n",
    "    response = tool_executor.invoke(action)\n",
    "    #we use the response to create a FunctionMessage\n",
    "    function_message = FunctionMessage(\n",
    "        content =f\"{tool_name} response: {str(response)}\" ,name = action.tool\n",
    "    )\n",
    "    #we return a list, because this will get added to the existing list\n",
    "    return {\"messages\": [function_message]}"
   ]
  },
  {
   "cell_type": "markdown",
   "id": "aa8ecced-38e2-478e-87da-cf1c2cd856c2",
   "metadata": {},
   "source": [
    "## Define Edge logic\n",
    "\n",
    "Needed to decide what to do based on results of the agents"
   ]
  },
  {
   "cell_type": "code",
   "execution_count": 107,
   "id": "7f886dd0-8ee2-45d7-89b6-323289bed805",
   "metadata": {},
   "outputs": [],
   "source": [
    "# Either agent can decide to end \n",
    "def router (state):\n",
    "    messages = state [\"messages\"]\n",
    "    last_message = messages[-1]\n",
    "    if \"function_call\" in last_message.additional_kwargs:\n",
    "        #the previous agent is invoking a tool\n",
    "        return \"call_tool\"\n",
    "    if \"FINAL ANSWER\" in last_message.content:\n",
    "        #Any agent decided the work is done\n",
    "        return \"end\"\n",
    "    return \"continue\""
   ]
  },
  {
   "cell_type": "markdown",
   "id": "e88a16dc-3d13-4526-b777-7d3d29d94364",
   "metadata": {},
   "source": [
    "## Define the graph\n",
    "\n",
    "We can now put it all together and define the graph"
   ]
  },
  {
   "cell_type": "code",
   "execution_count": 109,
   "id": "7a9b5cf4-6079-4a72-91b7-de5cafc7adc1",
   "metadata": {},
   "outputs": [],
   "source": [
    "from langgraph.graph import StateGraph, END\n",
    "\n",
    "# Define a new graph\n",
    "\n",
    "workflow = StateGraph(AgentState)\n",
    "\n",
    "workflow.add_node(\"Researcher\", research_node)\n",
    "workflow.add_node(\"Chart Generator\", chart_node)\n",
    "workflow.add_node(\"call_tool\" , tool_node)\n",
    "\n",
    "\n",
    "#we now add conditional edges\n",
    "workflow.add_conditional_edges(\n",
    "    \"Researcher\",\n",
    "    router,\n",
    "    {\"continue\": \"Chart Generator\", \"call_tool\":\"call_tool\", \"end\": END},\n",
    ")\n",
    "\n",
    "workflow.add_conditional_edges(\n",
    "    \"Chart Generator\",\n",
    "    router,\n",
    "    {\"continue\": \"Researcher\", \"call_tool\":\"call_tool\", \"end\": END},\n",
    ")\n",
    "\n",
    "workflow.add_conditional_edges(\n",
    "    \"call_tool\",\n",
    "    #Each agent node updates the sender field\n",
    "    #the tool calling node doesn't , meaning \n",
    "    #this edge will route back to the original agent\n",
    "    lambda x: x[\"sender\"],\n",
    "    {\n",
    "        \"Researcher\": \"Researcher\", \n",
    "        \"Chart Generator\":\"Chart Generator\",\n",
    "    },\n",
    ")\n",
    "\n",
    "workflow.set_entry_point(\"Researcher\")\n",
    "graph = workflow.compile()"
   ]
  },
  {
   "cell_type": "markdown",
   "id": "7ad54a3d-c404-4455-9795-4a90a232d5c7",
   "metadata": {},
   "source": [
    "## Invoke it \n",
    "\n",
    "we can now use it. it ow exposes the same interface as all other langchain runnables"
   ]
  },
  {
   "cell_type": "code",
   "execution_count": 113,
   "id": "93276730-85a4-4697-8318-6c76ca62f34f",
   "metadata": {},
   "outputs": [
    {
     "name": "stdout",
     "output_type": "stream",
     "text": [
      "{'Researcher': {'messages': [HumanMessage(content='', additional_kwargs={'function_call': {'arguments': '{\"query\":\"UK GDP over the past 5 years\"}', 'name': 'tavily_search_results_json'}}, response_metadata={'finish_reason': 'function_call'}, name='Researcher', id='run-541805bb-a761-40cf-bc2d-288a8811dc90-0', invalid_tool_calls=[], usage_metadata={'input_tokens': 1354, 'output_tokens': 103, 'total_tokens': 1457}, tool_calls=[])], 'sender': 'Researcher'}}\n",
      "-----------------\n"
     ]
    },
    {
     "name": "stderr",
     "output_type": "stream",
     "text": [
      "C:\\Users\\VISIONARY\\AppData\\Local\\Temp\\ipykernel_12432\\1955409410.py:28: LangGraphDeprecationWarning: ToolInvocation is deprecated as of version 0.2.0 and will be removed in 0.3.0. Use langgraph.prebuilt.ToolNode instead.\n",
      "  action = ToolInvocation(\n"
     ]
    },
    {
     "name": "stdout",
     "output_type": "stream",
     "text": [
      "{'call_tool': {'messages': [FunctionMessage(content='tavily_search_results_json response: [{\\'url\\': \\'https://tradingeconomics.com/united-kingdom/gdp-growth\\', \\'content\\': \\'GDP Growth Rate in the United Kingdom averaged 0.58 percent from 1955 until 2023, reaching an all time high of 16.80 percent in the third quarter of 2020 and a record low of -20.30 percent in the second quarter of 2020. source: Office for National Statistics\\\\nThe Gross Domestic Product (GDP) in the United Kingdom contracted 0.10 percent in the third quarter of 2023 over the previous quarter.\\\\n Markets\\\\nGDP\\\\nLabour\\\\nPrices\\\\nHealth\\\\nMoney\\\\nTrade\\\\nGovernment\\\\nBusiness\\\\nConsumer\\\\nHousing\\\\nTaxes\\\\nClimate The Gross Domestic Product (GDP) in the United Kingdom contracted 0.10 percent in the third quarter of 2023 over the previous quarter. GDP Growth Rate in the United Kingdom is expected to be 0.20 percent by the end of this quarter, according to Trading Economics global macro models and analysts expectations.\\'}, {\\'url\\': \\'https://www.statista.com/topics/3795/gdp-of-the-uk/\\', \\'content\\': \\'Monthly growth of gross domestic product in the United Kingdom from January 2019 to November 2023\\\\nContribution to GDP growth in the UK 2023, by sector\\\\nContribution to gross domestic product growth in the United Kingdom in January 2023, by sector\\\\nGDP growth rate in the UK 1999-2021, by country\\\\nAnnual growth rates of gross domestic product in the United Kingdom from 1999 to 2021, by country\\\\nGDP growth rate in the UK 2021, by region\\\\nAnnual growth rates of gross domestic product in the United Kingdom in 2021, by region\\\\nGDP growth of Scotland 2021, by local area\\\\nAnnual growth rates of gross domestic product in Scotland in 2021, by local (ITL 3) area\\\\nGDP growth of Wales 2021, by local area\\\\nAnnual growth rates of gross domestic product in Wales in 2021, by local (ITL 3) area\\\\nGDP growth of Northern Ireland 2021, by local area\\\\nAnnual growth rates of gross domestic product in Northern Ireland in 2021, by local (ITL 3) area\\\\nGDP per capita\\\\nGDP per capita\\\\nGDP per capita in the UK 1955-2022\\\\nGross domestic product per capita in the United Kingdom from 1955 to 2022 (in GBP)\\\\nAnnual GDP per capita growth in the UK 1956-2022\\\\nAnnual GDP per capita growth in the United Kingdom from 1956 to 2022\\\\nQuarterly GDP per capita in the UK 2019-2023\\\\nQuarterly GDP per capita in the United Kingdom from 1st quarter 2019 to 3rd quarter 2023 (in GBP)\\\\nQuarterly GDP per capita growth in the UK 2019-2023\\\\nQuarterly GDP per capita growth in the United Kingdom from 1st quarter 2019 to 3rd quarter 2023 (in GBP)\\\\nGDP per capita of the UK 1999-2021, by country\\\\nGross domestic product per capita of the United Kingdom from 1999 to 2021, by country (in GBP)\\\\nGDP per capita of the UK 2021, by region\\\\nGross domestic product per capita of the United Kingdom in 2021, by region (in GBP)\\\\nGlobal Comparisons\\\\nGlobal Comparisons\\\\nCountries with the largest gross domestic product (GDP) 2022\\\\n Monthly GDP of the UK 2019-2023\\\\nMonthly index of gross domestic product in the United Kingdom from January 2019 to November 2023 (2019=100)\\\\nGVA of the UK 2022, by sector\\\\nGross value added of the United Kingdom in 2022, by industry sector (in million GBP)\\\\nGDP of the UK 2021, by country\\\\nGross domestic product of the United Kingdom in 2021, by country (in million GBP)\\\\nGDP of the UK 2021, by region\\\\nGross domestic product of the United Kingdom in 2021, by region (in million GBP)\\\\nGDP of Scotland 2021, by local area\\\\nGross domestic product of Scotland in 2021, by local (ITL 3) area (in million GBP)\\\\nGDP of Wales 2021, by local area\\\\nGross domestic product of Wales in 2021, by local (ITL 3) area (in million GBP)\\\\nGDP of Northern Ireland 2021, by local area\\\\nGross domestic product of Northern Ireland in 2021, by local (ITL 3) area (in million GBP)\\\\nGDP growth\\\\nGDP growth\\\\nGDP growth forecast for the UK 2000-2028\\\\nForecasted annual growth of gross domestic product in the United Kingdom from 2000 to 2028\\\\nAnnual GDP growth in the UK 1949-2022\\\\nAnnual growth of gross domestic product in the United Kingdom from 1949 to 2022\\\\nQuarterly GDP growth of the UK 2019-2023\\\\nQuarterly growth of gross domestic product in the United Kingdom from 1st quarter 2019 to 3rd quarter 2023\\\\nMonthly GDP growth of the UK 2019-2023\\\\n Transforming data into design:\\\\nStatista Content & Design\\\\nStrategy and business building for the data-driven economy:\\\\nUK GDP - Statistics & Facts\\\\nUK economy expected to shrink in 2023\\\\nCharacteristics of UK GDP\\\\nKey insights\\\\nDetailed statistics\\\\nGDP of the UK 1948-2022\\\\nDetailed statistics\\\\nAnnual GDP growth in the UK 1949-2022\\\\nDetailed statistics\\\\nGDP per capita in the UK 1955-2022\\\\nEditor’s Picks\\\\nCurrent statistics on this topic\\\\nCurrent statistics on this topic\\\\nKey Economic Indicators\\\\nMonthly GDP growth of the UK 2019-2023\\\\nKey Economic Indicators\\\\nMonthly GDP of the UK 2019-2023\\\\nKey Economic Indicators\\\\nContribution to GDP growth in the UK 2023, by sector\\\\nRelated topics\\\\nRecommended\\\\nRecommended statistics\\\\nGDP\\\\nGDP\\\\nGDP of the UK 1948-2022\\\\nGross domestic product of the United Kingdom from 1948 to 2022 (in million GBP)\\\\nQuarterly GDP of the UK 2019-2023\\\\nQuarterly gross domestic product in the United Kingdom from 1st quarter 2019 to 3rd quarter 2023 (in million GBP)\\\\n The 20 countries with the largest gross domestic product (GDP) in 2022 (in billion U.S. dollars)\\\\nGDP of European countries in 2022\\\\nGross domestic product at current market prices of selected European countries in 2022 (in million euros)\\\\nReal GDP growth rates in Europe 2023\\\\nAnnual real gross domestic product (GDP) growth rate in European countries in 2023\\\\nGross domestic product (GDP) of Europe\\\\\\'s largest economies 1980-2028\\\\nGross domestic product (GDP) at current prices of Europe\\\\\\'s largest economies from 1980 to 2028 (in billion U.S dollars)\\\\nUnited Kingdom\\\\\\'s share of global gross domestic product (GDP) 2028\\\\nUnited Kingdom (UK): Share of global gross domestic product (GDP) adjusted for Purchasing Power Parity (PPP) from 2018 to 2028\\\\nRelated topics\\\\nRecommended\\\\nReport on the topic\\\\nKey figures\\\\nThe most important key figures provide you with a compact summary of the topic of \"UK GDP\" and take you straight to the corresponding statistics.\\\\n Industry Overview\\\\nDigital & Trend reports\\\\nOverview and forecasts on trending topics\\\\nIndustry & Market reports\\\\nIndustry and market insights and forecasts\\\\nCompanies & Products reports\\\\nKey figures and rankings about companies and products\\\\nConsumer & Brand reports\\\\nConsumer and brand insights and preferences in various industries\\\\nPolitics & Society reports\\\\nDetailed information about political and social topics\\\\nCountry & Region reports\\\\nAll key figures about countries and regions\\\\nMarket forecast and expert KPIs for 1000+ markets in 190+ countries & territories\\\\nInsights on consumer attitudes and behavior worldwide\\\\nBusiness information on 100m+ public and private companies\\\\nExplore Company Insights\\\\nDetailed information for 39,000+ online stores and marketplaces\\\\nDirectly accessible data for 170 industries from 150+ countries\\\\nand over 1\\\\xa0Mio. facts.\\\\n\\'}, {\\'url\\': \\'https://tradingeconomics.com/united-kingdom/gdp\\', \\'content\\': \\'The Gross Domestic Product (GDP) in the United Kingdom was worth 3340.03 billion US dollars in 2023, according to official data from the World Bank. The GDP value of the United Kingdom represents 3.17 percent of the world economy. This page provides the latest reported value for - United Kingdom GDP - plus previous releases, historical high and low, short-term forecast and long-term prediction ...\\'}, {\\'url\\': \\'https://www.macrotrends.net/global-metrics/countries/GBR/united-kingdom/gdp-gross-domestic-product\\', \\'content\\': \"U.K. gdp for 2021 was $3,141.51B, a 16.45% increase from 2020. U.K. gdp for 2020 was $2,697.81B, a 5.39% decline from 2019. U.K. gdp for 2019 was $2,851.41B, a 0.69% decline from 2018. GDP at purchaser\\'s prices is the sum of gross value added by all resident producers in the economy plus any product taxes and minus any subsidies not included in ...\"}, {\\'url\\': \\'https://www.macrotrends.net/global-metrics/countries/GBR/united-kingdom/economic-growth-rate\\', \\'content\\': \"U.K. economic growth for 2018 was $3,087.35B, a 0.92% increase from 2018. U.K. economic growth for 2018 was $3,059.24B, a 1.07% increase from 2018. U.K. economic growth for 2018 was $3,026.97B, a 0.41% increase from 2017. GDP at purchaser\\'s prices is the sum of gross value added by all resident producers in the economy plus any product taxes ...\"}]', name='tavily_search_results_json')]}}\n",
      "-----------------\n",
      "{'Researcher': {'messages': [HumanMessage(content='Based on the information provided, the GDP of the United Kingdom contracted 0.10 percent in the third quarter of 2023 compared to the previous quarter. However, the GDP growth rate is expected to be 0.20 percent by the end of this quarter.\\n\\nHere is the chart generator data:\\n\\nTool use failed: ', response_metadata={'finish_reason': 'stop'}, name='Researcher', id='run-fadea796-0547-43b2-834a-c906b558ffe9-0', invalid_tool_calls=[], usage_metadata=None, tool_calls=[])], 'sender': 'Researcher'}}\n",
      "-----------------\n",
      "{'Chart Generator': {'messages': [HumanMessage(content=\"I'm sorry for the inconvenience, but I'm unable to generate the chart as requested. However, I can provide you with the necessary data to generate a line graph of the UK's GDP over the past 5 years.\\n\\nThe GDP data for the past 5 years (in billion US dollars) is as follows:\\n\\n2019: 2,824.55\\n2020: 2,697.81\\n2021: 3,141.51\\n2022: 3,283.43\\n2023: 3,340.03\\n\\nThe GDP contracted by 0.10% in Q3 2023 compared to the previous quarter, but it is expected to grow by 0.20% by the end of this quarter. You can use this data to create a line graph showing the GDP trend over the past 5 years.\", response_metadata={'finish_reason': 'stop'}, name='Chart Generator', id='run-bc7d1074-6144-4996-9f3a-b0ea5824bdd1-0', invalid_tool_calls=[], usage_metadata={'input_tokens': 4321, 'output_tokens': 220, 'total_tokens': 4541}, tool_calls=[])], 'sender': 'Chart Generator'}}\n",
      "-----------------\n"
     ]
    },
    {
     "ename": "KeyboardInterrupt",
     "evalue": "",
     "output_type": "error",
     "traceback": [
      "\u001b[1;31m---------------------------------------------------------------------------\u001b[0m",
      "\u001b[1;31mKeyboardInterrupt\u001b[0m                         Traceback (most recent call last)",
      "Cell \u001b[1;32mIn[113], line 1\u001b[0m\n\u001b[1;32m----> 1\u001b[0m \u001b[38;5;28;01mfor\u001b[39;00m s \u001b[38;5;129;01min\u001b[39;00m graph\u001b[38;5;241m.\u001b[39mstream(\n\u001b[0;32m      2\u001b[0m     {\n\u001b[0;32m      3\u001b[0m         \u001b[38;5;124m\"\u001b[39m\u001b[38;5;124mmessages\u001b[39m\u001b[38;5;124m\"\u001b[39m : [\n\u001b[0;32m      4\u001b[0m             HumanMessage (\n\u001b[0;32m      5\u001b[0m                 content \u001b[38;5;241m=\u001b[39m \u001b[38;5;124m\"\u001b[39m\u001b[38;5;124mFetch the UK\u001b[39m\u001b[38;5;124m'\u001b[39m\u001b[38;5;124ms GDP over the past 5 years,\u001b[39m\u001b[38;5;124m\"\u001b[39m\n\u001b[0;32m      6\u001b[0m                 \u001b[38;5;124m\"\u001b[39m\u001b[38;5;124mthen draw a line graph of it.\u001b[39m\u001b[38;5;124m\"\u001b[39m\n\u001b[0;32m      7\u001b[0m                 \u001b[38;5;124m\"\u001b[39m\u001b[38;5;124mOnce you code it up, finish.\u001b[39m\u001b[38;5;124m\"\u001b[39m\n\u001b[0;32m      8\u001b[0m             )\n\u001b[0;32m      9\u001b[0m         ],\n\u001b[0;32m     10\u001b[0m     },\n\u001b[0;32m     11\u001b[0m     \u001b[38;5;66;03m#Maximum number of steps to take in the graph \u001b[39;00m\n\u001b[0;32m     12\u001b[0m     {\u001b[38;5;124m\"\u001b[39m\u001b[38;5;124mrecursion_limit\u001b[39m\u001b[38;5;124m\"\u001b[39m: \u001b[38;5;241m50\u001b[39m},\n\u001b[0;32m     13\u001b[0m     \n\u001b[0;32m     14\u001b[0m ):\n\u001b[0;32m     15\u001b[0m     \u001b[38;5;28mprint\u001b[39m(s)\n\u001b[0;32m     16\u001b[0m     \u001b[38;5;28mprint\u001b[39m(\u001b[38;5;124m\"\u001b[39m\u001b[38;5;124m-----------------\u001b[39m\u001b[38;5;124m\"\u001b[39m)\n",
      "File \u001b[1;32mC:\\Anaconda\\Lib\\site-packages\\langgraph\\pregel\\__init__.py:976\u001b[0m, in \u001b[0;36mPregel.stream\u001b[1;34m(self, input, config, stream_mode, output_keys, interrupt_before, interrupt_after, debug)\u001b[0m\n\u001b[0;32m    974\u001b[0m     done, inflight \u001b[38;5;241m=\u001b[39m \u001b[38;5;28mset\u001b[39m(), \u001b[38;5;28mset\u001b[39m()\n\u001b[0;32m    975\u001b[0m \u001b[38;5;28;01mwhile\u001b[39;00m futures:\n\u001b[1;32m--> 976\u001b[0m     done, inflight \u001b[38;5;241m=\u001b[39m concurrent\u001b[38;5;241m.\u001b[39mfutures\u001b[38;5;241m.\u001b[39mwait(\n\u001b[0;32m    977\u001b[0m         futures,\n\u001b[0;32m    978\u001b[0m         return_when\u001b[38;5;241m=\u001b[39mconcurrent\u001b[38;5;241m.\u001b[39mfutures\u001b[38;5;241m.\u001b[39mFIRST_COMPLETED,\n\u001b[0;32m    979\u001b[0m         timeout\u001b[38;5;241m=\u001b[39m(\n\u001b[0;32m    980\u001b[0m             \u001b[38;5;28mmax\u001b[39m(\u001b[38;5;241m0\u001b[39m, end_time \u001b[38;5;241m-\u001b[39m time\u001b[38;5;241m.\u001b[39mmonotonic())\n\u001b[0;32m    981\u001b[0m             \u001b[38;5;28;01mif\u001b[39;00m end_time\n\u001b[0;32m    982\u001b[0m             \u001b[38;5;28;01melse\u001b[39;00m \u001b[38;5;28;01mNone\u001b[39;00m\n\u001b[0;32m    983\u001b[0m         ),\n\u001b[0;32m    984\u001b[0m     )\n\u001b[0;32m    985\u001b[0m     \u001b[38;5;28;01mif\u001b[39;00m \u001b[38;5;129;01mnot\u001b[39;00m done:\n\u001b[0;32m    986\u001b[0m         \u001b[38;5;28;01mbreak\u001b[39;00m  \u001b[38;5;66;03m# timed out\u001b[39;00m\n",
      "File \u001b[1;32mC:\\Anaconda\\Lib\\concurrent\\futures\\_base.py:305\u001b[0m, in \u001b[0;36mwait\u001b[1;34m(fs, timeout, return_when)\u001b[0m\n\u001b[0;32m    301\u001b[0m         \u001b[38;5;28;01mreturn\u001b[39;00m DoneAndNotDoneFutures(done, not_done)\n\u001b[0;32m    303\u001b[0m     waiter \u001b[38;5;241m=\u001b[39m _create_and_install_waiters(fs, return_when)\n\u001b[1;32m--> 305\u001b[0m waiter\u001b[38;5;241m.\u001b[39mevent\u001b[38;5;241m.\u001b[39mwait(timeout)\n\u001b[0;32m    306\u001b[0m \u001b[38;5;28;01mfor\u001b[39;00m f \u001b[38;5;129;01min\u001b[39;00m fs:\n\u001b[0;32m    307\u001b[0m     \u001b[38;5;28;01mwith\u001b[39;00m f\u001b[38;5;241m.\u001b[39m_condition:\n",
      "File \u001b[1;32mC:\\Anaconda\\Lib\\threading.py:629\u001b[0m, in \u001b[0;36mEvent.wait\u001b[1;34m(self, timeout)\u001b[0m\n\u001b[0;32m    627\u001b[0m signaled \u001b[38;5;241m=\u001b[39m \u001b[38;5;28mself\u001b[39m\u001b[38;5;241m.\u001b[39m_flag\n\u001b[0;32m    628\u001b[0m \u001b[38;5;28;01mif\u001b[39;00m \u001b[38;5;129;01mnot\u001b[39;00m signaled:\n\u001b[1;32m--> 629\u001b[0m     signaled \u001b[38;5;241m=\u001b[39m \u001b[38;5;28mself\u001b[39m\u001b[38;5;241m.\u001b[39m_cond\u001b[38;5;241m.\u001b[39mwait(timeout)\n\u001b[0;32m    630\u001b[0m \u001b[38;5;28;01mreturn\u001b[39;00m signaled\n",
      "File \u001b[1;32mC:\\Anaconda\\Lib\\threading.py:327\u001b[0m, in \u001b[0;36mCondition.wait\u001b[1;34m(self, timeout)\u001b[0m\n\u001b[0;32m    325\u001b[0m \u001b[38;5;28;01mtry\u001b[39;00m:    \u001b[38;5;66;03m# restore state no matter what (e.g., KeyboardInterrupt)\u001b[39;00m\n\u001b[0;32m    326\u001b[0m     \u001b[38;5;28;01mif\u001b[39;00m timeout \u001b[38;5;129;01mis\u001b[39;00m \u001b[38;5;28;01mNone\u001b[39;00m:\n\u001b[1;32m--> 327\u001b[0m         waiter\u001b[38;5;241m.\u001b[39macquire()\n\u001b[0;32m    328\u001b[0m         gotit \u001b[38;5;241m=\u001b[39m \u001b[38;5;28;01mTrue\u001b[39;00m\n\u001b[0;32m    329\u001b[0m     \u001b[38;5;28;01melse\u001b[39;00m:\n",
      "\u001b[1;31mKeyboardInterrupt\u001b[0m: "
     ]
    }
   ],
   "source": [
    "for s in graph.stream(\n",
    "    {\n",
    "        \"messages\" : [\n",
    "            HumanMessage (\n",
    "                content = \"Fetch the UK's GDP over the past 5 years,\"\n",
    "                \"then draw a line graph of it.\"\n",
    "                \"Once you code it up, finish.\"\n",
    "            )\n",
    "        ],\n",
    "    },\n",
    "    #Maximum number of steps to take in the graph \n",
    "    {\"recursion_limit\": 50},\n",
    "    \n",
    "):\n",
    "    print(s)\n",
    "    print(\"-----------------\")"
   ]
  },
  {
   "cell_type": "code",
   "execution_count": null,
   "id": "60bdb1a8-8803-4329-8833-f6f8a75caa8b",
   "metadata": {},
   "outputs": [],
   "source": []
  }
 ],
 "metadata": {
  "kernelspec": {
   "display_name": "Python 3 (ipykernel)",
   "language": "python",
   "name": "python3"
  },
  "language_info": {
   "codemirror_mode": {
    "name": "ipython",
    "version": 3
   },
   "file_extension": ".py",
   "mimetype": "text/x-python",
   "name": "python",
   "nbconvert_exporter": "python",
   "pygments_lexer": "ipython3",
   "version": "3.11.7"
  }
 },
 "nbformat": 4,
 "nbformat_minor": 5
}
